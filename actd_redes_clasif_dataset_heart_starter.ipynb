{
 "cells": [
  {
   "cell_type": "markdown",
   "metadata": {
    "id": "_Hq739EyGb3y"
   },
   "source": [
    "## ACTD 2025-10"
   ]
  },
  {
   "cell_type": "markdown",
   "metadata": {
    "id": "fJkJsOuHGb30"
   },
   "source": [
    "### Clases 13-14: redes neuronales para clasificación\n",
    "\n",
    "- Redes densas\n",
    "- Redes para clasificación\n",
    "- Procesamiento de datos continuos y categóricos\n",
    "- Funciones de activación y pérdida"
   ]
  },
  {
   "cell_type": "markdown",
   "metadata": {
    "id": "OXCuT4WNIQRr"
   },
   "source": [
    "Empecemos importando numpy, pandas, keras, tensorflow"
   ]
  },
  {
   "cell_type": "code",
   "execution_count": 2,
   "metadata": {
    "executionInfo": {
     "elapsed": 10137,
     "status": "ok",
     "timestamp": 1721354387708,
     "user": {
      "displayName": "Juan F Pérez",
      "userId": "13439628769322192552"
     },
     "user_tz": 300
    },
    "id": "XvZd5CxTGdcd"
   },
   "outputs": [],
   "source": [
    "import numpy as np\n",
    "import pandas as pd\n",
    "import tensorflow as tf\n",
    "import keras"
   ]
  },
  {
   "cell_type": "markdown",
   "metadata": {
    "id": "QbWocciXIZjU"
   },
   "source": [
    "Carguemos el archivo auto-mpg.data (disponible en Bloque Neón) usando pandas. Note que debemos incluir los nombres de las columnas, además de indicar los caracteres para separación, nas y comentarios."
   ]
  },
  {
   "cell_type": "code",
   "execution_count": 3,
   "metadata": {
    "executionInfo": {
     "elapsed": 1881,
     "status": "ok",
     "timestamp": 1721354419544,
     "user": {
      "displayName": "Juan F Pérez",
      "userId": "13439628769322192552"
     },
     "user_tz": 300
    },
    "id": "SrWIjZxQG-Pm"
   },
   "outputs": [],
   "source": [
    "df = pd.read_csv('heart.csv')"
   ]
  },
  {
   "cell_type": "markdown",
   "metadata": {
    "id": "It4_BrEgI6_w"
   },
   "source": [
    "Exploremos las primeras filas del dataframe."
   ]
  },
  {
   "cell_type": "code",
   "execution_count": 4,
   "metadata": {
    "colab": {
     "base_uri": "https://localhost:8080/",
     "height": 226
    },
    "executionInfo": {
     "elapsed": 26,
     "status": "ok",
     "timestamp": 1721354419547,
     "user": {
      "displayName": "Juan F Pérez",
      "userId": "13439628769322192552"
     },
     "user_tz": 300
    },
    "id": "VjBQLhr3INGC",
    "outputId": "d13e3f74-dd78-4a4a-9209-ec1756d2980f"
   },
   "outputs": [
    {
     "data": {
      "text/html": [
       "<div>\n",
       "<style scoped>\n",
       "    .dataframe tbody tr th:only-of-type {\n",
       "        vertical-align: middle;\n",
       "    }\n",
       "\n",
       "    .dataframe tbody tr th {\n",
       "        vertical-align: top;\n",
       "    }\n",
       "\n",
       "    .dataframe thead th {\n",
       "        text-align: right;\n",
       "    }\n",
       "</style>\n",
       "<table border=\"1\" class=\"dataframe\">\n",
       "  <thead>\n",
       "    <tr style=\"text-align: right;\">\n",
       "      <th></th>\n",
       "      <th>age</th>\n",
       "      <th>sex</th>\n",
       "      <th>cp</th>\n",
       "      <th>trestbps</th>\n",
       "      <th>chol</th>\n",
       "      <th>fbs</th>\n",
       "      <th>restecg</th>\n",
       "      <th>thalach</th>\n",
       "      <th>exang</th>\n",
       "      <th>oldpeak</th>\n",
       "      <th>slope</th>\n",
       "      <th>ca</th>\n",
       "      <th>thal</th>\n",
       "      <th>target</th>\n",
       "    </tr>\n",
       "  </thead>\n",
       "  <tbody>\n",
       "    <tr>\n",
       "      <th>0</th>\n",
       "      <td>63</td>\n",
       "      <td>1</td>\n",
       "      <td>1</td>\n",
       "      <td>145</td>\n",
       "      <td>233</td>\n",
       "      <td>1</td>\n",
       "      <td>2</td>\n",
       "      <td>150</td>\n",
       "      <td>0</td>\n",
       "      <td>2.3</td>\n",
       "      <td>3</td>\n",
       "      <td>0</td>\n",
       "      <td>fixed</td>\n",
       "      <td>0</td>\n",
       "    </tr>\n",
       "    <tr>\n",
       "      <th>1</th>\n",
       "      <td>67</td>\n",
       "      <td>1</td>\n",
       "      <td>4</td>\n",
       "      <td>160</td>\n",
       "      <td>286</td>\n",
       "      <td>0</td>\n",
       "      <td>2</td>\n",
       "      <td>108</td>\n",
       "      <td>1</td>\n",
       "      <td>1.5</td>\n",
       "      <td>2</td>\n",
       "      <td>3</td>\n",
       "      <td>normal</td>\n",
       "      <td>1</td>\n",
       "    </tr>\n",
       "    <tr>\n",
       "      <th>2</th>\n",
       "      <td>67</td>\n",
       "      <td>1</td>\n",
       "      <td>4</td>\n",
       "      <td>120</td>\n",
       "      <td>229</td>\n",
       "      <td>0</td>\n",
       "      <td>2</td>\n",
       "      <td>129</td>\n",
       "      <td>1</td>\n",
       "      <td>2.6</td>\n",
       "      <td>2</td>\n",
       "      <td>2</td>\n",
       "      <td>reversible</td>\n",
       "      <td>0</td>\n",
       "    </tr>\n",
       "    <tr>\n",
       "      <th>3</th>\n",
       "      <td>37</td>\n",
       "      <td>1</td>\n",
       "      <td>3</td>\n",
       "      <td>130</td>\n",
       "      <td>250</td>\n",
       "      <td>0</td>\n",
       "      <td>0</td>\n",
       "      <td>187</td>\n",
       "      <td>0</td>\n",
       "      <td>3.5</td>\n",
       "      <td>3</td>\n",
       "      <td>0</td>\n",
       "      <td>normal</td>\n",
       "      <td>0</td>\n",
       "    </tr>\n",
       "    <tr>\n",
       "      <th>4</th>\n",
       "      <td>41</td>\n",
       "      <td>0</td>\n",
       "      <td>2</td>\n",
       "      <td>130</td>\n",
       "      <td>204</td>\n",
       "      <td>0</td>\n",
       "      <td>2</td>\n",
       "      <td>172</td>\n",
       "      <td>0</td>\n",
       "      <td>1.4</td>\n",
       "      <td>1</td>\n",
       "      <td>0</td>\n",
       "      <td>normal</td>\n",
       "      <td>0</td>\n",
       "    </tr>\n",
       "  </tbody>\n",
       "</table>\n",
       "</div>"
      ],
      "text/plain": [
       "   age  sex  cp  trestbps  chol  fbs  restecg  thalach  exang  oldpeak  slope  \\\n",
       "0   63    1   1       145   233    1        2      150      0      2.3      3   \n",
       "1   67    1   4       160   286    0        2      108      1      1.5      2   \n",
       "2   67    1   4       120   229    0        2      129      1      2.6      2   \n",
       "3   37    1   3       130   250    0        0      187      0      3.5      3   \n",
       "4   41    0   2       130   204    0        2      172      0      1.4      1   \n",
       "\n",
       "   ca        thal  target  \n",
       "0   0       fixed       0  \n",
       "1   3      normal       1  \n",
       "2   2  reversible       0  \n",
       "3   0      normal       0  \n",
       "4   0      normal       0  "
      ]
     },
     "execution_count": 4,
     "metadata": {},
     "output_type": "execute_result"
    }
   ],
   "source": [
    "df.head()"
   ]
  },
  {
   "cell_type": "markdown",
   "metadata": {
    "id": "Sf3tQ4SdKQy7"
   },
   "source": [
    "Descripción de las variables:\n",
    "\n",
    "https://archive.ics.uci.edu/dataset/45/heart+disease\n"
   ]
  },
  {
   "cell_type": "markdown",
   "metadata": {
    "id": "GRDlL9vAJAz1"
   },
   "source": [
    "Exploremos el tamaño del df"
   ]
  },
  {
   "cell_type": "code",
   "execution_count": 5,
   "metadata": {
    "colab": {
     "base_uri": "https://localhost:8080/"
    },
    "executionInfo": {
     "elapsed": 23,
     "status": "ok",
     "timestamp": 1721354419548,
     "user": {
      "displayName": "Juan F Pérez",
      "userId": "13439628769322192552"
     },
     "user_tz": 300
    },
    "id": "PeHyTPnEJC8f",
    "outputId": "6ee7304f-ee5d-498b-e30c-c078ab31a96b"
   },
   "outputs": [
    {
     "data": {
      "text/plain": [
       "(303, 14)"
      ]
     },
     "execution_count": 5,
     "metadata": {},
     "output_type": "execute_result"
    }
   ],
   "source": [
    "df.shape"
   ]
  },
  {
   "cell_type": "markdown",
   "metadata": {
    "id": "dONjz931JFhG"
   },
   "source": [
    "Identificamos NAs en los datos"
   ]
  },
  {
   "cell_type": "code",
   "execution_count": 6,
   "metadata": {
    "colab": {
     "base_uri": "https://localhost:8080/"
    },
    "executionInfo": {
     "elapsed": 18,
     "status": "ok",
     "timestamp": 1721354419548,
     "user": {
      "displayName": "Juan F Pérez",
      "userId": "13439628769322192552"
     },
     "user_tz": 300
    },
    "id": "47pvp0jtJFKt",
    "outputId": "dee53aa8-0fec-4819-da59-60f1bcd2fe20"
   },
   "outputs": [
    {
     "data": {
      "text/plain": [
       "age         0\n",
       "sex         0\n",
       "cp          0\n",
       "trestbps    0\n",
       "chol        0\n",
       "fbs         0\n",
       "restecg     0\n",
       "thalach     0\n",
       "exang       0\n",
       "oldpeak     0\n",
       "slope       0\n",
       "ca          0\n",
       "thal        0\n",
       "target      0\n",
       "dtype: int64"
      ]
     },
     "execution_count": 6,
     "metadata": {},
     "output_type": "execute_result"
    }
   ],
   "source": [
    "df.isna().sum()"
   ]
  },
  {
   "cell_type": "markdown",
   "metadata": {
    "id": "Ebb_FtLdmEgT"
   },
   "source": [
    "Definimos listas para las variables categóricas enteras, categóricas string y numéricas."
   ]
  },
  {
   "cell_type": "code",
   "execution_count": 7,
   "metadata": {
    "executionInfo": {
     "elapsed": 15,
     "status": "ok",
     "timestamp": 1721354419549,
     "user": {
      "displayName": "Juan F Pérez",
      "userId": "13439628769322192552"
     },
     "user_tz": 300
    },
    "id": "U6HARyge_bKP"
   },
   "outputs": [],
   "source": [
    "cat_int_feats = ['sex', 'cp', 'fbs', 'restecg', 'exang', 'ca']"
   ]
  },
  {
   "cell_type": "code",
   "execution_count": 8,
   "metadata": {
    "executionInfo": {
     "elapsed": 13,
     "status": "ok",
     "timestamp": 1721354419549,
     "user": {
      "displayName": "Juan F Pérez",
      "userId": "13439628769322192552"
     },
     "user_tz": 300
    },
    "id": "onEA7I5N_ek0"
   },
   "outputs": [],
   "source": [
    "cat_str_feats = ['thal']"
   ]
  },
  {
   "cell_type": "code",
   "execution_count": 9,
   "metadata": {
    "executionInfo": {
     "elapsed": 13,
     "status": "ok",
     "timestamp": 1721354419549,
     "user": {
      "displayName": "Juan F Pérez",
      "userId": "13439628769322192552"
     },
     "user_tz": 300
    },
    "id": "YxwNz_7y_hrv"
   },
   "outputs": [],
   "source": [
    "num_feats = ['age', 'trestbps', 'chol', 'thalach', 'oldpeak', 'slope']"
   ]
  },
  {
   "cell_type": "markdown",
   "metadata": {
    "id": "hL-Zip0OmNru"
   },
   "source": [
    "Agregamos las listas de categorías"
   ]
  },
  {
   "cell_type": "code",
   "execution_count": 10,
   "metadata": {
    "executionInfo": {
     "elapsed": 13,
     "status": "ok",
     "timestamp": 1721354419550,
     "user": {
      "displayName": "Juan F Pérez",
      "userId": "13439628769322192552"
     },
     "user_tz": 300
    },
    "id": "DBzj4Qxr_kR1"
   },
   "outputs": [],
   "source": [
    "feats_ordered = cat_int_feats+cat_str_feats+num_feats"
   ]
  },
  {
   "cell_type": "markdown",
   "metadata": {
    "id": "P_Mlzsv9mRH3"
   },
   "source": [
    "Reordenamos el dataframe de acuerdo con el tipo de variable"
   ]
  },
  {
   "cell_type": "code",
   "execution_count": 11,
   "metadata": {
    "executionInfo": {
     "elapsed": 468,
     "status": "ok",
     "timestamp": 1721354420005,
     "user": {
      "displayName": "Juan F Pérez",
      "userId": "13439628769322192552"
     },
     "user_tz": 300
    },
    "id": "yH8Xsu1a_ohM"
   },
   "outputs": [],
   "source": [
    "df = df[feats_ordered+['target']]"
   ]
  },
  {
   "cell_type": "code",
   "execution_count": 12,
   "metadata": {
    "colab": {
     "base_uri": "https://localhost:8080/",
     "height": 226
    },
    "executionInfo": {
     "elapsed": 20,
     "status": "ok",
     "timestamp": 1721354420005,
     "user": {
      "displayName": "Juan F Pérez",
      "userId": "13439628769322192552"
     },
     "user_tz": 300
    },
    "id": "QY-c3kZD_paR",
    "outputId": "bcb41c84-18cf-46c9-bd0c-919429604799"
   },
   "outputs": [
    {
     "data": {
      "text/html": [
       "<div>\n",
       "<style scoped>\n",
       "    .dataframe tbody tr th:only-of-type {\n",
       "        vertical-align: middle;\n",
       "    }\n",
       "\n",
       "    .dataframe tbody tr th {\n",
       "        vertical-align: top;\n",
       "    }\n",
       "\n",
       "    .dataframe thead th {\n",
       "        text-align: right;\n",
       "    }\n",
       "</style>\n",
       "<table border=\"1\" class=\"dataframe\">\n",
       "  <thead>\n",
       "    <tr style=\"text-align: right;\">\n",
       "      <th></th>\n",
       "      <th>sex</th>\n",
       "      <th>cp</th>\n",
       "      <th>fbs</th>\n",
       "      <th>restecg</th>\n",
       "      <th>exang</th>\n",
       "      <th>ca</th>\n",
       "      <th>thal</th>\n",
       "      <th>age</th>\n",
       "      <th>trestbps</th>\n",
       "      <th>chol</th>\n",
       "      <th>thalach</th>\n",
       "      <th>oldpeak</th>\n",
       "      <th>slope</th>\n",
       "      <th>target</th>\n",
       "    </tr>\n",
       "  </thead>\n",
       "  <tbody>\n",
       "    <tr>\n",
       "      <th>0</th>\n",
       "      <td>1</td>\n",
       "      <td>1</td>\n",
       "      <td>1</td>\n",
       "      <td>2</td>\n",
       "      <td>0</td>\n",
       "      <td>0</td>\n",
       "      <td>fixed</td>\n",
       "      <td>63</td>\n",
       "      <td>145</td>\n",
       "      <td>233</td>\n",
       "      <td>150</td>\n",
       "      <td>2.3</td>\n",
       "      <td>3</td>\n",
       "      <td>0</td>\n",
       "    </tr>\n",
       "    <tr>\n",
       "      <th>1</th>\n",
       "      <td>1</td>\n",
       "      <td>4</td>\n",
       "      <td>0</td>\n",
       "      <td>2</td>\n",
       "      <td>1</td>\n",
       "      <td>3</td>\n",
       "      <td>normal</td>\n",
       "      <td>67</td>\n",
       "      <td>160</td>\n",
       "      <td>286</td>\n",
       "      <td>108</td>\n",
       "      <td>1.5</td>\n",
       "      <td>2</td>\n",
       "      <td>1</td>\n",
       "    </tr>\n",
       "    <tr>\n",
       "      <th>2</th>\n",
       "      <td>1</td>\n",
       "      <td>4</td>\n",
       "      <td>0</td>\n",
       "      <td>2</td>\n",
       "      <td>1</td>\n",
       "      <td>2</td>\n",
       "      <td>reversible</td>\n",
       "      <td>67</td>\n",
       "      <td>120</td>\n",
       "      <td>229</td>\n",
       "      <td>129</td>\n",
       "      <td>2.6</td>\n",
       "      <td>2</td>\n",
       "      <td>0</td>\n",
       "    </tr>\n",
       "    <tr>\n",
       "      <th>3</th>\n",
       "      <td>1</td>\n",
       "      <td>3</td>\n",
       "      <td>0</td>\n",
       "      <td>0</td>\n",
       "      <td>0</td>\n",
       "      <td>0</td>\n",
       "      <td>normal</td>\n",
       "      <td>37</td>\n",
       "      <td>130</td>\n",
       "      <td>250</td>\n",
       "      <td>187</td>\n",
       "      <td>3.5</td>\n",
       "      <td>3</td>\n",
       "      <td>0</td>\n",
       "    </tr>\n",
       "    <tr>\n",
       "      <th>4</th>\n",
       "      <td>0</td>\n",
       "      <td>2</td>\n",
       "      <td>0</td>\n",
       "      <td>2</td>\n",
       "      <td>0</td>\n",
       "      <td>0</td>\n",
       "      <td>normal</td>\n",
       "      <td>41</td>\n",
       "      <td>130</td>\n",
       "      <td>204</td>\n",
       "      <td>172</td>\n",
       "      <td>1.4</td>\n",
       "      <td>1</td>\n",
       "      <td>0</td>\n",
       "    </tr>\n",
       "  </tbody>\n",
       "</table>\n",
       "</div>"
      ],
      "text/plain": [
       "   sex  cp  fbs  restecg  exang  ca        thal  age  trestbps  chol  thalach  \\\n",
       "0    1   1    1        2      0   0       fixed   63       145   233      150   \n",
       "1    1   4    0        2      1   3      normal   67       160   286      108   \n",
       "2    1   4    0        2      1   2  reversible   67       120   229      129   \n",
       "3    1   3    0        0      0   0      normal   37       130   250      187   \n",
       "4    0   2    0        2      0   0      normal   41       130   204      172   \n",
       "\n",
       "   oldpeak  slope  target  \n",
       "0      2.3      3       0  \n",
       "1      1.5      2       1  \n",
       "2      2.6      2       0  \n",
       "3      3.5      3       0  \n",
       "4      1.4      1       0  "
      ]
     },
     "execution_count": 12,
     "metadata": {},
     "output_type": "execute_result"
    }
   ],
   "source": [
    "df.head()"
   ]
  },
  {
   "cell_type": "markdown",
   "metadata": {
    "id": "8Ls8L1hRMQh4"
   },
   "source": [
    "Separamos los datos en entrenamiento, validación y prueba"
   ]
  },
  {
   "cell_type": "code",
   "execution_count": 13,
   "metadata": {
    "colab": {
     "base_uri": "https://localhost:8080/",
     "height": 226
    },
    "executionInfo": {
     "elapsed": 17,
     "status": "ok",
     "timestamp": 1721354420005,
     "user": {
      "displayName": "Juan F Pérez",
      "userId": "13439628769322192552"
     },
     "user_tz": 300
    },
    "id": "8dADsWjtMTcS",
    "outputId": "27b762e0-5c23-40c1-8d0d-706e09c3a664"
   },
   "outputs": [
    {
     "data": {
      "text/html": [
       "<div>\n",
       "<style scoped>\n",
       "    .dataframe tbody tr th:only-of-type {\n",
       "        vertical-align: middle;\n",
       "    }\n",
       "\n",
       "    .dataframe tbody tr th {\n",
       "        vertical-align: top;\n",
       "    }\n",
       "\n",
       "    .dataframe thead th {\n",
       "        text-align: right;\n",
       "    }\n",
       "</style>\n",
       "<table border=\"1\" class=\"dataframe\">\n",
       "  <thead>\n",
       "    <tr style=\"text-align: right;\">\n",
       "      <th></th>\n",
       "      <th>sex</th>\n",
       "      <th>cp</th>\n",
       "      <th>fbs</th>\n",
       "      <th>restecg</th>\n",
       "      <th>exang</th>\n",
       "      <th>ca</th>\n",
       "      <th>thal</th>\n",
       "      <th>age</th>\n",
       "      <th>trestbps</th>\n",
       "      <th>chol</th>\n",
       "      <th>thalach</th>\n",
       "      <th>oldpeak</th>\n",
       "      <th>slope</th>\n",
       "      <th>target</th>\n",
       "    </tr>\n",
       "  </thead>\n",
       "  <tbody>\n",
       "    <tr>\n",
       "      <th>69</th>\n",
       "      <td>0</td>\n",
       "      <td>4</td>\n",
       "      <td>0</td>\n",
       "      <td>0</td>\n",
       "      <td>0</td>\n",
       "      <td>0</td>\n",
       "      <td>normal</td>\n",
       "      <td>35</td>\n",
       "      <td>138</td>\n",
       "      <td>183</td>\n",
       "      <td>182</td>\n",
       "      <td>1.4</td>\n",
       "      <td>1</td>\n",
       "      <td>0</td>\n",
       "    </tr>\n",
       "    <tr>\n",
       "      <th>300</th>\n",
       "      <td>1</td>\n",
       "      <td>4</td>\n",
       "      <td>0</td>\n",
       "      <td>2</td>\n",
       "      <td>0</td>\n",
       "      <td>1</td>\n",
       "      <td>reversible</td>\n",
       "      <td>65</td>\n",
       "      <td>135</td>\n",
       "      <td>254</td>\n",
       "      <td>127</td>\n",
       "      <td>2.8</td>\n",
       "      <td>2</td>\n",
       "      <td>1</td>\n",
       "    </tr>\n",
       "    <tr>\n",
       "      <th>220</th>\n",
       "      <td>1</td>\n",
       "      <td>1</td>\n",
       "      <td>0</td>\n",
       "      <td>0</td>\n",
       "      <td>0</td>\n",
       "      <td>2</td>\n",
       "      <td>normal</td>\n",
       "      <td>59</td>\n",
       "      <td>134</td>\n",
       "      <td>204</td>\n",
       "      <td>162</td>\n",
       "      <td>0.8</td>\n",
       "      <td>1</td>\n",
       "      <td>0</td>\n",
       "    </tr>\n",
       "    <tr>\n",
       "      <th>134</th>\n",
       "      <td>1</td>\n",
       "      <td>3</td>\n",
       "      <td>1</td>\n",
       "      <td>0</td>\n",
       "      <td>0</td>\n",
       "      <td>0</td>\n",
       "      <td>reversible</td>\n",
       "      <td>42</td>\n",
       "      <td>120</td>\n",
       "      <td>240</td>\n",
       "      <td>194</td>\n",
       "      <td>0.8</td>\n",
       "      <td>3</td>\n",
       "      <td>0</td>\n",
       "    </tr>\n",
       "    <tr>\n",
       "      <th>7</th>\n",
       "      <td>0</td>\n",
       "      <td>4</td>\n",
       "      <td>0</td>\n",
       "      <td>0</td>\n",
       "      <td>1</td>\n",
       "      <td>0</td>\n",
       "      <td>normal</td>\n",
       "      <td>57</td>\n",
       "      <td>120</td>\n",
       "      <td>354</td>\n",
       "      <td>163</td>\n",
       "      <td>0.6</td>\n",
       "      <td>1</td>\n",
       "      <td>0</td>\n",
       "    </tr>\n",
       "  </tbody>\n",
       "</table>\n",
       "</div>"
      ],
      "text/plain": [
       "     sex  cp  fbs  restecg  exang  ca        thal  age  trestbps  chol  \\\n",
       "69     0   4    0        0      0   0      normal   35       138   183   \n",
       "300    1   4    0        2      0   1  reversible   65       135   254   \n",
       "220    1   1    0        0      0   2      normal   59       134   204   \n",
       "134    1   3    1        0      0   0  reversible   42       120   240   \n",
       "7      0   4    0        0      1   0      normal   57       120   354   \n",
       "\n",
       "     thalach  oldpeak  slope  target  \n",
       "69       182      1.4      1       0  \n",
       "300      127      2.8      2       1  \n",
       "220      162      0.8      1       0  \n",
       "134      194      0.8      3       0  \n",
       "7        163      0.6      1       0  "
      ]
     },
     "execution_count": 13,
     "metadata": {},
     "output_type": "execute_result"
    }
   ],
   "source": [
    "train = df.sample(frac=0.8, random_state=100)\n",
    "train.head()"
   ]
  },
  {
   "cell_type": "code",
   "execution_count": 14,
   "metadata": {
    "colab": {
     "base_uri": "https://localhost:8080/"
    },
    "executionInfo": {
     "elapsed": 16,
     "status": "ok",
     "timestamp": 1721354420005,
     "user": {
      "displayName": "Juan F Pérez",
      "userId": "13439628769322192552"
     },
     "user_tz": 300
    },
    "id": "GZOQNUy2jSwH",
    "outputId": "b50645a3-1309-4c3a-b045-f33ed22ff326"
   },
   "outputs": [
    {
     "data": {
      "text/plain": [
       "(242, 14)"
      ]
     },
     "execution_count": 14,
     "metadata": {},
     "output_type": "execute_result"
    }
   ],
   "source": [
    "train.shape"
   ]
  },
  {
   "cell_type": "code",
   "execution_count": 15,
   "metadata": {
    "colab": {
     "base_uri": "https://localhost:8080/",
     "height": 226
    },
    "executionInfo": {
     "elapsed": 480,
     "status": "ok",
     "timestamp": 1721354420473,
     "user": {
      "displayName": "Juan F Pérez",
      "userId": "13439628769322192552"
     },
     "user_tz": 300
    },
    "id": "TC9xJuiKMenc",
    "outputId": "678e03c5-1671-4275-b8bc-077a6b9dc850"
   },
   "outputs": [
    {
     "data": {
      "text/html": [
       "<div>\n",
       "<style scoped>\n",
       "    .dataframe tbody tr th:only-of-type {\n",
       "        vertical-align: middle;\n",
       "    }\n",
       "\n",
       "    .dataframe tbody tr th {\n",
       "        vertical-align: top;\n",
       "    }\n",
       "\n",
       "    .dataframe thead th {\n",
       "        text-align: right;\n",
       "    }\n",
       "</style>\n",
       "<table border=\"1\" class=\"dataframe\">\n",
       "  <thead>\n",
       "    <tr style=\"text-align: right;\">\n",
       "      <th></th>\n",
       "      <th>sex</th>\n",
       "      <th>cp</th>\n",
       "      <th>fbs</th>\n",
       "      <th>restecg</th>\n",
       "      <th>exang</th>\n",
       "      <th>ca</th>\n",
       "      <th>thal</th>\n",
       "      <th>age</th>\n",
       "      <th>trestbps</th>\n",
       "      <th>chol</th>\n",
       "      <th>thalach</th>\n",
       "      <th>oldpeak</th>\n",
       "      <th>slope</th>\n",
       "      <th>target</th>\n",
       "    </tr>\n",
       "  </thead>\n",
       "  <tbody>\n",
       "    <tr>\n",
       "      <th>0</th>\n",
       "      <td>1</td>\n",
       "      <td>1</td>\n",
       "      <td>1</td>\n",
       "      <td>2</td>\n",
       "      <td>0</td>\n",
       "      <td>0</td>\n",
       "      <td>fixed</td>\n",
       "      <td>63</td>\n",
       "      <td>145</td>\n",
       "      <td>233</td>\n",
       "      <td>150</td>\n",
       "      <td>2.3</td>\n",
       "      <td>3</td>\n",
       "      <td>0</td>\n",
       "    </tr>\n",
       "    <tr>\n",
       "      <th>2</th>\n",
       "      <td>1</td>\n",
       "      <td>4</td>\n",
       "      <td>0</td>\n",
       "      <td>2</td>\n",
       "      <td>1</td>\n",
       "      <td>2</td>\n",
       "      <td>reversible</td>\n",
       "      <td>67</td>\n",
       "      <td>120</td>\n",
       "      <td>229</td>\n",
       "      <td>129</td>\n",
       "      <td>2.6</td>\n",
       "      <td>2</td>\n",
       "      <td>0</td>\n",
       "    </tr>\n",
       "    <tr>\n",
       "      <th>4</th>\n",
       "      <td>0</td>\n",
       "      <td>2</td>\n",
       "      <td>0</td>\n",
       "      <td>2</td>\n",
       "      <td>0</td>\n",
       "      <td>0</td>\n",
       "      <td>normal</td>\n",
       "      <td>41</td>\n",
       "      <td>130</td>\n",
       "      <td>204</td>\n",
       "      <td>172</td>\n",
       "      <td>1.4</td>\n",
       "      <td>1</td>\n",
       "      <td>0</td>\n",
       "    </tr>\n",
       "    <tr>\n",
       "      <th>8</th>\n",
       "      <td>1</td>\n",
       "      <td>4</td>\n",
       "      <td>0</td>\n",
       "      <td>2</td>\n",
       "      <td>0</td>\n",
       "      <td>1</td>\n",
       "      <td>reversible</td>\n",
       "      <td>63</td>\n",
       "      <td>130</td>\n",
       "      <td>254</td>\n",
       "      <td>147</td>\n",
       "      <td>1.4</td>\n",
       "      <td>2</td>\n",
       "      <td>1</td>\n",
       "    </tr>\n",
       "    <tr>\n",
       "      <th>13</th>\n",
       "      <td>1</td>\n",
       "      <td>2</td>\n",
       "      <td>0</td>\n",
       "      <td>0</td>\n",
       "      <td>0</td>\n",
       "      <td>0</td>\n",
       "      <td>reversible</td>\n",
       "      <td>44</td>\n",
       "      <td>120</td>\n",
       "      <td>263</td>\n",
       "      <td>173</td>\n",
       "      <td>0.0</td>\n",
       "      <td>1</td>\n",
       "      <td>0</td>\n",
       "    </tr>\n",
       "  </tbody>\n",
       "</table>\n",
       "</div>"
      ],
      "text/plain": [
       "    sex  cp  fbs  restecg  exang  ca        thal  age  trestbps  chol  \\\n",
       "0     1   1    1        2      0   0       fixed   63       145   233   \n",
       "2     1   4    0        2      1   2  reversible   67       120   229   \n",
       "4     0   2    0        2      0   0      normal   41       130   204   \n",
       "8     1   4    0        2      0   1  reversible   63       130   254   \n",
       "13    1   2    0        0      0   0  reversible   44       120   263   \n",
       "\n",
       "    thalach  oldpeak  slope  target  \n",
       "0       150      2.3      3       0  \n",
       "2       129      2.6      2       0  \n",
       "4       172      1.4      1       0  \n",
       "8       147      1.4      2       1  \n",
       "13      173      0.0      1       0  "
      ]
     },
     "execution_count": 15,
     "metadata": {},
     "output_type": "execute_result"
    }
   ],
   "source": [
    "test = df.drop(train.index)\n",
    "test.head()"
   ]
  },
  {
   "cell_type": "code",
   "execution_count": 16,
   "metadata": {
    "executionInfo": {
     "elapsed": 14,
     "status": "ok",
     "timestamp": 1721354420474,
     "user": {
      "displayName": "Juan F Pérez",
      "userId": "13439628769322192552"
     },
     "user_tz": 300
    },
    "id": "z3Bmb1Npj_zu"
   },
   "outputs": [],
   "source": [
    "val = train.sample(frac=0.2, random_state=100)"
   ]
  },
  {
   "cell_type": "code",
   "execution_count": 17,
   "metadata": {
    "colab": {
     "base_uri": "https://localhost:8080/"
    },
    "executionInfo": {
     "elapsed": 13,
     "status": "ok",
     "timestamp": 1721354420474,
     "user": {
      "displayName": "Juan F Pérez",
      "userId": "13439628769322192552"
     },
     "user_tz": 300
    },
    "id": "dfSRCJElkP4U",
    "outputId": "e1f2727f-cefb-4e49-934e-afd28928b408"
   },
   "outputs": [
    {
     "data": {
      "text/plain": [
       "(48, 14)"
      ]
     },
     "execution_count": 17,
     "metadata": {},
     "output_type": "execute_result"
    }
   ],
   "source": [
    "val.shape"
   ]
  },
  {
   "cell_type": "code",
   "execution_count": 18,
   "metadata": {
    "executionInfo": {
     "elapsed": 9,
     "status": "ok",
     "timestamp": 1721354420474,
     "user": {
      "displayName": "Juan F Pérez",
      "userId": "13439628769322192552"
     },
     "user_tz": 300
    },
    "id": "_Ptvi_pBkImU"
   },
   "outputs": [],
   "source": [
    "train = train.drop(val.index)"
   ]
  },
  {
   "cell_type": "code",
   "execution_count": 19,
   "metadata": {
    "colab": {
     "base_uri": "https://localhost:8080/"
    },
    "executionInfo": {
     "elapsed": 10,
     "status": "ok",
     "timestamp": 1721354420475,
     "user": {
      "displayName": "Juan F Pérez",
      "userId": "13439628769322192552"
     },
     "user_tz": 300
    },
    "id": "-H2PITXhMmcz",
    "outputId": "ee606fed-1a6b-44ca-b414-07bbee03eb04"
   },
   "outputs": [
    {
     "name": "stdout",
     "output_type": "stream",
     "text": [
      "(194, 14)\n",
      "(48, 14)\n",
      "(61, 14)\n"
     ]
    }
   ],
   "source": [
    "print(train.shape)\n",
    "print(val.shape)\n",
    "print(test.shape)"
   ]
  },
  {
   "cell_type": "markdown",
   "metadata": {
    "id": "t58x12kjNrK7"
   },
   "source": [
    "Calculamos estadísticas de cada variable numérica"
   ]
  },
  {
   "cell_type": "code",
   "execution_count": 20,
   "metadata": {
    "colab": {
     "base_uri": "https://localhost:8080/",
     "height": 320
    },
    "executionInfo": {
     "elapsed": 405,
     "status": "ok",
     "timestamp": 1721354420873,
     "user": {
      "displayName": "Juan F Pérez",
      "userId": "13439628769322192552"
     },
     "user_tz": 300
    },
    "id": "Ycw_T_PnNtmr",
    "outputId": "e71ba85c-497a-405e-e431-62a3ee22aea6"
   },
   "outputs": [
    {
     "data": {
      "text/html": [
       "<div>\n",
       "<style scoped>\n",
       "    .dataframe tbody tr th:only-of-type {\n",
       "        vertical-align: middle;\n",
       "    }\n",
       "\n",
       "    .dataframe tbody tr th {\n",
       "        vertical-align: top;\n",
       "    }\n",
       "\n",
       "    .dataframe thead th {\n",
       "        text-align: right;\n",
       "    }\n",
       "</style>\n",
       "<table border=\"1\" class=\"dataframe\">\n",
       "  <thead>\n",
       "    <tr style=\"text-align: right;\">\n",
       "      <th></th>\n",
       "      <th>sex</th>\n",
       "      <th>cp</th>\n",
       "      <th>fbs</th>\n",
       "      <th>restecg</th>\n",
       "      <th>exang</th>\n",
       "      <th>ca</th>\n",
       "      <th>age</th>\n",
       "      <th>trestbps</th>\n",
       "      <th>chol</th>\n",
       "      <th>thalach</th>\n",
       "      <th>oldpeak</th>\n",
       "      <th>slope</th>\n",
       "      <th>target</th>\n",
       "    </tr>\n",
       "  </thead>\n",
       "  <tbody>\n",
       "    <tr>\n",
       "      <th>count</th>\n",
       "      <td>194.000000</td>\n",
       "      <td>194.000000</td>\n",
       "      <td>194.000000</td>\n",
       "      <td>194.000000</td>\n",
       "      <td>194.000000</td>\n",
       "      <td>194.000000</td>\n",
       "      <td>194.000000</td>\n",
       "      <td>194.000000</td>\n",
       "      <td>194.000000</td>\n",
       "      <td>194.000000</td>\n",
       "      <td>194.000000</td>\n",
       "      <td>194.000000</td>\n",
       "      <td>194.000000</td>\n",
       "    </tr>\n",
       "    <tr>\n",
       "      <th>mean</th>\n",
       "      <td>0.664948</td>\n",
       "      <td>3.097938</td>\n",
       "      <td>0.134021</td>\n",
       "      <td>1.000000</td>\n",
       "      <td>0.319588</td>\n",
       "      <td>0.649485</td>\n",
       "      <td>54.953608</td>\n",
       "      <td>132.876289</td>\n",
       "      <td>249.974227</td>\n",
       "      <td>150.412371</td>\n",
       "      <td>0.990722</td>\n",
       "      <td>1.577320</td>\n",
       "      <td>0.257732</td>\n",
       "    </tr>\n",
       "    <tr>\n",
       "      <th>std</th>\n",
       "      <td>0.473230</td>\n",
       "      <td>1.030969</td>\n",
       "      <td>0.341556</td>\n",
       "      <td>0.997406</td>\n",
       "      <td>0.467523</td>\n",
       "      <td>0.927878</td>\n",
       "      <td>8.754150</td>\n",
       "      <td>17.952879</td>\n",
       "      <td>52.803226</td>\n",
       "      <td>22.809984</td>\n",
       "      <td>1.110625</td>\n",
       "      <td>0.590689</td>\n",
       "      <td>0.438517</td>\n",
       "    </tr>\n",
       "    <tr>\n",
       "      <th>min</th>\n",
       "      <td>0.000000</td>\n",
       "      <td>0.000000</td>\n",
       "      <td>0.000000</td>\n",
       "      <td>0.000000</td>\n",
       "      <td>0.000000</td>\n",
       "      <td>0.000000</td>\n",
       "      <td>34.000000</td>\n",
       "      <td>94.000000</td>\n",
       "      <td>126.000000</td>\n",
       "      <td>88.000000</td>\n",
       "      <td>0.000000</td>\n",
       "      <td>1.000000</td>\n",
       "      <td>0.000000</td>\n",
       "    </tr>\n",
       "    <tr>\n",
       "      <th>25%</th>\n",
       "      <td>0.000000</td>\n",
       "      <td>2.000000</td>\n",
       "      <td>0.000000</td>\n",
       "      <td>0.000000</td>\n",
       "      <td>0.000000</td>\n",
       "      <td>0.000000</td>\n",
       "      <td>49.000000</td>\n",
       "      <td>120.000000</td>\n",
       "      <td>215.750000</td>\n",
       "      <td>138.250000</td>\n",
       "      <td>0.000000</td>\n",
       "      <td>1.000000</td>\n",
       "      <td>0.000000</td>\n",
       "    </tr>\n",
       "    <tr>\n",
       "      <th>50%</th>\n",
       "      <td>1.000000</td>\n",
       "      <td>3.000000</td>\n",
       "      <td>0.000000</td>\n",
       "      <td>1.000000</td>\n",
       "      <td>0.000000</td>\n",
       "      <td>0.000000</td>\n",
       "      <td>56.000000</td>\n",
       "      <td>130.000000</td>\n",
       "      <td>243.000000</td>\n",
       "      <td>154.000000</td>\n",
       "      <td>0.600000</td>\n",
       "      <td>2.000000</td>\n",
       "      <td>0.000000</td>\n",
       "    </tr>\n",
       "    <tr>\n",
       "      <th>75%</th>\n",
       "      <td>1.000000</td>\n",
       "      <td>4.000000</td>\n",
       "      <td>0.000000</td>\n",
       "      <td>2.000000</td>\n",
       "      <td>1.000000</td>\n",
       "      <td>1.000000</td>\n",
       "      <td>61.000000</td>\n",
       "      <td>143.500000</td>\n",
       "      <td>281.000000</td>\n",
       "      <td>167.750000</td>\n",
       "      <td>1.600000</td>\n",
       "      <td>2.000000</td>\n",
       "      <td>1.000000</td>\n",
       "    </tr>\n",
       "    <tr>\n",
       "      <th>max</th>\n",
       "      <td>1.000000</td>\n",
       "      <td>4.000000</td>\n",
       "      <td>1.000000</td>\n",
       "      <td>2.000000</td>\n",
       "      <td>1.000000</td>\n",
       "      <td>3.000000</td>\n",
       "      <td>77.000000</td>\n",
       "      <td>192.000000</td>\n",
       "      <td>564.000000</td>\n",
       "      <td>195.000000</td>\n",
       "      <td>4.400000</td>\n",
       "      <td>3.000000</td>\n",
       "      <td>1.000000</td>\n",
       "    </tr>\n",
       "  </tbody>\n",
       "</table>\n",
       "</div>"
      ],
      "text/plain": [
       "              sex          cp         fbs     restecg       exang          ca  \\\n",
       "count  194.000000  194.000000  194.000000  194.000000  194.000000  194.000000   \n",
       "mean     0.664948    3.097938    0.134021    1.000000    0.319588    0.649485   \n",
       "std      0.473230    1.030969    0.341556    0.997406    0.467523    0.927878   \n",
       "min      0.000000    0.000000    0.000000    0.000000    0.000000    0.000000   \n",
       "25%      0.000000    2.000000    0.000000    0.000000    0.000000    0.000000   \n",
       "50%      1.000000    3.000000    0.000000    1.000000    0.000000    0.000000   \n",
       "75%      1.000000    4.000000    0.000000    2.000000    1.000000    1.000000   \n",
       "max      1.000000    4.000000    1.000000    2.000000    1.000000    3.000000   \n",
       "\n",
       "              age    trestbps        chol     thalach     oldpeak       slope  \\\n",
       "count  194.000000  194.000000  194.000000  194.000000  194.000000  194.000000   \n",
       "mean    54.953608  132.876289  249.974227  150.412371    0.990722    1.577320   \n",
       "std      8.754150   17.952879   52.803226   22.809984    1.110625    0.590689   \n",
       "min     34.000000   94.000000  126.000000   88.000000    0.000000    1.000000   \n",
       "25%     49.000000  120.000000  215.750000  138.250000    0.000000    1.000000   \n",
       "50%     56.000000  130.000000  243.000000  154.000000    0.600000    2.000000   \n",
       "75%     61.000000  143.500000  281.000000  167.750000    1.600000    2.000000   \n",
       "max     77.000000  192.000000  564.000000  195.000000    4.400000    3.000000   \n",
       "\n",
       "           target  \n",
       "count  194.000000  \n",
       "mean     0.257732  \n",
       "std      0.438517  \n",
       "min      0.000000  \n",
       "25%      0.000000  \n",
       "50%      0.000000  \n",
       "75%      1.000000  \n",
       "max      1.000000  "
      ]
     },
     "execution_count": 20,
     "metadata": {},
     "output_type": "execute_result"
    }
   ],
   "source": [
    "train.describe()"
   ]
  },
  {
   "cell_type": "markdown",
   "metadata": {
    "id": "O0kwTMsxPEC-"
   },
   "source": [
    "Función para convertir de dataframe (pandas) a dataset (tensorflow), separando características y etiquetas"
   ]
  },
  {
   "cell_type": "code",
   "execution_count": 21,
   "metadata": {
    "executionInfo": {
     "elapsed": 12,
     "status": "ok",
     "timestamp": 1721354420873,
     "user": {
      "displayName": "Juan F Pérez",
      "userId": "13439628769322192552"
     },
     "user_tz": 300
    },
    "id": "2mMPXHVzty85"
   },
   "outputs": [],
   "source": [
    "def dataframe_to_dataset(dataframe):\n",
    "    dataframe = dataframe.copy()\n",
    "    labels = dataframe.pop(\"target\")\n",
    "    ds = tf.data.Dataset.from_tensor_slices((dict(dataframe), labels))\n",
    "    ds = ds.shuffle(buffer_size=len(dataframe))\n",
    "    return ds"
   ]
  },
  {
   "cell_type": "code",
   "execution_count": 22,
   "metadata": {
    "executionInfo": {
     "elapsed": 1219,
     "status": "ok",
     "timestamp": 1721354422081,
     "user": {
      "displayName": "Juan F Pérez",
      "userId": "13439628769322192552"
     },
     "user_tz": 300
    },
    "id": "ajCnnkOvt2yZ"
   },
   "outputs": [],
   "source": [
    "train_ds = dataframe_to_dataset(train)\n",
    "val_ds = dataframe_to_dataset(val)\n",
    "test_ds = dataframe_to_dataset(test)"
   ]
  },
  {
   "cell_type": "code",
   "execution_count": 23,
   "metadata": {
    "colab": {
     "base_uri": "https://localhost:8080/",
     "height": 139
    },
    "executionInfo": {
     "elapsed": 12,
     "status": "ok",
     "timestamp": 1721354422082,
     "user": {
      "displayName": "Juan F Pérez",
      "userId": "13439628769322192552"
     },
     "user_tz": 300
    },
    "id": "JWOTIj3MuFHT",
    "outputId": "9642483f-cb2f-4453-ec74-f1ee2dca51cc"
   },
   "outputs": [
    {
     "data": {
      "text/plain": [
       "tensorflow.python.data.ops.shuffle_op._ShuffleDataset"
      ]
     },
     "execution_count": 23,
     "metadata": {},
     "output_type": "execute_result"
    }
   ],
   "source": [
    "type(train_ds)"
   ]
  },
  {
   "cell_type": "markdown",
   "metadata": {
    "id": "OzN2TbxKmv5J"
   },
   "source": [
    "Ejemplo de cómo queda el tf.dataset"
   ]
  },
  {
   "cell_type": "code",
   "execution_count": 24,
   "metadata": {
    "colab": {
     "base_uri": "https://localhost:8080/"
    },
    "executionInfo": {
     "elapsed": 400,
     "status": "ok",
     "timestamp": 1721354422474,
     "user": {
      "displayName": "Juan F Pérez",
      "userId": "13439628769322192552"
     },
     "user_tz": 300
    },
    "id": "4Kis1GC_uP94",
    "outputId": "da695797-f85c-47ce-caa5-1563c7116ebf"
   },
   "outputs": [
    {
     "name": "stdout",
     "output_type": "stream",
     "text": [
      "Input: {'sex': <tf.Tensor: shape=(), dtype=int64, numpy=1>, 'cp': <tf.Tensor: shape=(), dtype=int64, numpy=4>, 'fbs': <tf.Tensor: shape=(), dtype=int64, numpy=0>, 'restecg': <tf.Tensor: shape=(), dtype=int64, numpy=2>, 'exang': <tf.Tensor: shape=(), dtype=int64, numpy=1>, 'ca': <tf.Tensor: shape=(), dtype=int64, numpy=0>, 'thal': <tf.Tensor: shape=(), dtype=string, numpy=b'normal'>, 'age': <tf.Tensor: shape=(), dtype=int64, numpy=45>, 'trestbps': <tf.Tensor: shape=(), dtype=int64, numpy=104>, 'chol': <tf.Tensor: shape=(), dtype=int64, numpy=208>, 'thalach': <tf.Tensor: shape=(), dtype=int64, numpy=148>, 'oldpeak': <tf.Tensor: shape=(), dtype=float64, numpy=3.0>, 'slope': <tf.Tensor: shape=(), dtype=int64, numpy=2>}\n",
      "Target: tf.Tensor(0, shape=(), dtype=int64)\n"
     ]
    }
   ],
   "source": [
    "for x, y in train_ds.take(1):\n",
    "    print(\"Input:\", x)\n",
    "    print(\"Target:\", y)"
   ]
  },
  {
   "cell_type": "markdown",
   "metadata": {
    "id": "fqfXQMammzE5"
   },
   "source": [
    "Separamos los datos de entrenamiento, validación y prueba en lotes"
   ]
  },
  {
   "cell_type": "code",
   "execution_count": 25,
   "metadata": {
    "executionInfo": {
     "elapsed": 18,
     "status": "ok",
     "timestamp": 1721354422474,
     "user": {
      "displayName": "Juan F Pérez",
      "userId": "13439628769322192552"
     },
     "user_tz": 300
    },
    "id": "qYSJR321ucz4"
   },
   "outputs": [],
   "source": [
    "batch_size = 32\n",
    "train_ds = train_ds.batch(batch_size)\n",
    "test_ds = test_ds.batch(batch_size)\n",
    "val_ds = val_ds.batch(batch_size)"
   ]
  },
  {
   "cell_type": "markdown",
   "metadata": {
    "id": "gekvkTr8vem7"
   },
   "source": [
    "Función para codificar variables numéricas (Keras docs)"
   ]
  },
  {
   "cell_type": "code",
   "execution_count": 26,
   "metadata": {
    "executionInfo": {
     "elapsed": 18,
     "status": "ok",
     "timestamp": 1721354422475,
     "user": {
      "displayName": "Juan F Pérez",
      "userId": "13439628769322192552"
     },
     "user_tz": 300
    },
    "id": "lHL-Xz2vvcPz"
   },
   "outputs": [],
   "source": [
    "def encode_numerical_feature(feature, name, dataset):\n",
    "    # Crea capa de normalización para este feature\n",
    "    normalizer = keras.layers.Normalization()\n",
    "\n",
    "    # Prepara el dataset para considerar únicamente la feature de interés (name)\n",
    "    feature_ds = dataset.map(lambda x, y: x[name]) # selecciona variable\n",
    "    feature_ds = feature_ds.map(lambda x: tf.expand_dims(x, -1)) # deja el tensor de una dimensión\n",
    "\n",
    "    # Aprende las estadísticas de los datos (media, varianza)\n",
    "    normalizer.adapt(feature_ds)\n",
    "\n",
    "    # Aplica la normalización a la variable\n",
    "    encoded_feature = normalizer(feature)\n",
    "    return encoded_feature"
   ]
  },
  {
   "cell_type": "markdown",
   "metadata": {
    "id": "-2egk2GMvrYW"
   },
   "source": [
    "Función para codificar variables categóricas (Keras docs)"
   ]
  },
  {
   "cell_type": "code",
   "execution_count": 27,
   "metadata": {
    "executionInfo": {
     "elapsed": 19,
     "status": "ok",
     "timestamp": 1721354422476,
     "user": {
      "displayName": "Juan F Pérez",
      "userId": "13439628769322192552"
     },
     "user_tz": 300
    },
    "id": "o6XFsdP3vxI4"
   },
   "outputs": [],
   "source": [
    "def encode_categorical_feature(feature, name, dataset, is_string):\n",
    "    lookup_class = keras.layers.StringLookup if is_string else keras.layers.IntegerLookup\n",
    "    # Crea una capa Lookup para retornas variables 0/1 (dummies)\n",
    "    # lookup: busca el valor correspondiente de la variable categórica\n",
    "    lookup = lookup_class(output_mode=\"binary\")\n",
    "\n",
    "    # Prepara el dataset para considerar únicamente la feature de interés (name)\n",
    "    feature_ds = dataset.map(lambda x, y: x[name]) # selecciona variable\n",
    "    feature_ds = feature_ds.map(lambda x: tf.expand_dims(x, -1)) # deja el tensor de una dimensión\n",
    "\n",
    "    # Aprende el conjunto de posibles valores que toma la variable categórica y asigna enteros\n",
    "    lookup.adapt(feature_ds)\n",
    "\n",
    "    # Aplica la conversión de categorías a enteros\n",
    "    encoded_feature = lookup(feature)\n",
    "    return encoded_feature"
   ]
  },
  {
   "cell_type": "markdown",
   "metadata": {
    "id": "pxFez9T6ib3x"
   },
   "source": [
    "Creamos una lista de inputs para el modelo, de acuerdo con cada tipo de variable"
   ]
  },
  {
   "cell_type": "code",
   "execution_count": 28,
   "metadata": {
    "executionInfo": {
     "elapsed": 19,
     "status": "ok",
     "timestamp": 1721354422477,
     "user": {
      "displayName": "Juan F Pérez",
      "userId": "13439628769322192552"
     },
     "user_tz": 300
    },
    "id": "qe4JwN9Jv4g8"
   },
   "outputs": [],
   "source": [
    "inputs = []\n",
    "for i in cat_int_feats:\n",
    "  inputs.append(keras.Input(shape=(1,), name=i, dtype=\"int64\"))"
   ]
  },
  {
   "cell_type": "code",
   "execution_count": 29,
   "metadata": {
    "executionInfo": {
     "elapsed": 18,
     "status": "ok",
     "timestamp": 1721354422477,
     "user": {
      "displayName": "Juan F Pérez",
      "userId": "13439628769322192552"
     },
     "user_tz": 300
    },
    "id": "8My9fdD9wdpO"
   },
   "outputs": [],
   "source": [
    "for i in cat_str_feats:\n",
    "  inputs.append(keras.Input(shape=(1,), name=i, dtype=\"string\"))"
   ]
  },
  {
   "cell_type": "code",
   "execution_count": 30,
   "metadata": {
    "executionInfo": {
     "elapsed": 18,
     "status": "ok",
     "timestamp": 1721354422477,
     "user": {
      "displayName": "Juan F Pérez",
      "userId": "13439628769322192552"
     },
     "user_tz": 300
    },
    "id": "6smPNUmwwpC0"
   },
   "outputs": [],
   "source": [
    "for i in num_feats:\n",
    "  inputs.append(keras.Input(shape=(1,), name=i))"
   ]
  },
  {
   "cell_type": "code",
   "execution_count": 31,
   "metadata": {
    "colab": {
     "base_uri": "https://localhost:8080/"
    },
    "executionInfo": {
     "elapsed": 20,
     "status": "ok",
     "timestamp": 1721354422479,
     "user": {
      "displayName": "Juan F Pérez",
      "userId": "13439628769322192552"
     },
     "user_tz": 300
    },
    "id": "iViUbLxzwyqK",
    "outputId": "b6fe0abc-4daf-470f-bee3-4c8c4bcd9549"
   },
   "outputs": [
    {
     "name": "stdout",
     "output_type": "stream",
     "text": [
      "<KerasTensor shape=(None, 1), dtype=int64, sparse=False, ragged=False, name=sex>\n",
      "<KerasTensor shape=(None, 1), dtype=int64, sparse=False, ragged=False, name=cp>\n",
      "<KerasTensor shape=(None, 1), dtype=int64, sparse=False, ragged=False, name=fbs>\n",
      "<KerasTensor shape=(None, 1), dtype=int64, sparse=False, ragged=False, name=restecg>\n",
      "<KerasTensor shape=(None, 1), dtype=int64, sparse=False, ragged=False, name=exang>\n",
      "<KerasTensor shape=(None, 1), dtype=int64, sparse=False, ragged=False, name=ca>\n",
      "<KerasTensor shape=(None, 1), dtype=string, sparse=False, ragged=False, name=thal>\n",
      "<KerasTensor shape=(None, 1), dtype=float32, sparse=False, ragged=False, name=age>\n",
      "<KerasTensor shape=(None, 1), dtype=float32, sparse=False, ragged=False, name=trestbps>\n",
      "<KerasTensor shape=(None, 1), dtype=float32, sparse=False, ragged=False, name=chol>\n",
      "<KerasTensor shape=(None, 1), dtype=float32, sparse=False, ragged=False, name=thalach>\n",
      "<KerasTensor shape=(None, 1), dtype=float32, sparse=False, ragged=False, name=oldpeak>\n",
      "<KerasTensor shape=(None, 1), dtype=float32, sparse=False, ragged=False, name=slope>\n"
     ]
    }
   ],
   "source": [
    "for i in inputs:\n",
    "   print(i)"
   ]
  },
  {
   "cell_type": "markdown",
   "metadata": {
    "id": "QNRJIbFhihq1"
   },
   "source": [
    "Creamos una lista de variables codificadas/normalizadas de acuerdo con su tipo, empleando las funciones de codificación/normalización"
   ]
  },
  {
   "cell_type": "code",
   "execution_count": 32,
   "metadata": {
    "executionInfo": {
     "elapsed": 12,
     "status": "ok",
     "timestamp": 1721354422480,
     "user": {
      "displayName": "Juan F Pérez",
      "userId": "13439628769322192552"
     },
     "user_tz": 300
    },
    "id": "QZFZk7n1w18S"
   },
   "outputs": [],
   "source": [
    "feats_encoded=[]"
   ]
  },
  {
   "cell_type": "code",
   "execution_count": 33,
   "metadata": {
    "executionInfo": {
     "elapsed": 2972,
     "status": "ok",
     "timestamp": 1721354425441,
     "user": {
      "displayName": "Juan F Pérez",
      "userId": "13439628769322192552"
     },
     "user_tz": 300
    },
    "id": "CNsjUGDyxEFU"
   },
   "outputs": [],
   "source": [
    "for i,feat in enumerate(cat_int_feats):\n",
    "  feats_encoded.append(\n",
    "      encode_categorical_feature(inputs[i], feat, train_ds, False)\n",
    "  )"
   ]
  },
  {
   "cell_type": "code",
   "execution_count": 34,
   "metadata": {
    "colab": {
     "base_uri": "https://localhost:8080/"
    },
    "executionInfo": {
     "elapsed": 5,
     "status": "ok",
     "timestamp": 1721354425441,
     "user": {
      "displayName": "Juan F Pérez",
      "userId": "13439628769322192552"
     },
     "user_tz": 300
    },
    "id": "NoGZIhI5yNF8",
    "outputId": "e6a23189-9e55-4de2-abb0-287baeb551eb"
   },
   "outputs": [
    {
     "data": {
      "text/plain": [
       "6"
      ]
     },
     "execution_count": 34,
     "metadata": {},
     "output_type": "execute_result"
    }
   ],
   "source": [
    "len_feats = len(feats_encoded)\n",
    "len_feats"
   ]
  },
  {
   "cell_type": "code",
   "execution_count": 35,
   "metadata": {
    "executionInfo": {
     "elapsed": 476,
     "status": "ok",
     "timestamp": 1721354425915,
     "user": {
      "displayName": "Juan F Pérez",
      "userId": "13439628769322192552"
     },
     "user_tz": 300
    },
    "id": "f4FB7nNZyMla"
   },
   "outputs": [],
   "source": [
    "for i,feat in enumerate(cat_str_feats):\n",
    "  feats_encoded.append(\n",
    "      encode_categorical_feature(inputs[len_feats+i], feat, train_ds, True)\n",
    "  )"
   ]
  },
  {
   "cell_type": "code",
   "execution_count": 36,
   "metadata": {
    "colab": {
     "base_uri": "https://localhost:8080/"
    },
    "executionInfo": {
     "elapsed": 6,
     "status": "ok",
     "timestamp": 1721354425915,
     "user": {
      "displayName": "Juan F Pérez",
      "userId": "13439628769322192552"
     },
     "user_tz": 300
    },
    "id": "jQx1yyshykyC",
    "outputId": "73a45c6f-38df-47b1-c8c2-f8a49f01e47d"
   },
   "outputs": [
    {
     "data": {
      "text/plain": [
       "7"
      ]
     },
     "execution_count": 36,
     "metadata": {},
     "output_type": "execute_result"
    }
   ],
   "source": [
    "len_feats = len(feats_encoded)\n",
    "len_feats"
   ]
  },
  {
   "cell_type": "code",
   "execution_count": 37,
   "metadata": {
    "executionInfo": {
     "elapsed": 2571,
     "status": "ok",
     "timestamp": 1721354428481,
     "user": {
      "displayName": "Juan F Pérez",
      "userId": "13439628769322192552"
     },
     "user_tz": 300
    },
    "id": "uW6cMxRmyoPq"
   },
   "outputs": [],
   "source": [
    "for i,feat in enumerate(num_feats):\n",
    "  feats_encoded.append(\n",
    "      encode_numerical_feature(inputs[len_feats+i], feat, train_ds)\n",
    "  )"
   ]
  },
  {
   "cell_type": "code",
   "execution_count": 38,
   "metadata": {
    "colab": {
     "base_uri": "https://localhost:8080/"
    },
    "executionInfo": {
     "elapsed": 11,
     "status": "ok",
     "timestamp": 1721354428482,
     "user": {
      "displayName": "Juan F Pérez",
      "userId": "13439628769322192552"
     },
     "user_tz": 300
    },
    "id": "-8787d5HzklR",
    "outputId": "d2ed88f7-847a-45c8-b8f4-ccf87db7f874"
   },
   "outputs": [
    {
     "name": "stdout",
     "output_type": "stream",
     "text": [
      "<KerasTensor shape=(None, 3), dtype=float32, sparse=False, ragged=False, name=keras_tensor>\n",
      "<KerasTensor shape=(None, 6), dtype=float32, sparse=False, ragged=False, name=keras_tensor_1>\n",
      "<KerasTensor shape=(None, 3), dtype=float32, sparse=False, ragged=False, name=keras_tensor_2>\n",
      "<KerasTensor shape=(None, 4), dtype=float32, sparse=False, ragged=False, name=keras_tensor_3>\n",
      "<KerasTensor shape=(None, 3), dtype=float32, sparse=False, ragged=False, name=keras_tensor_4>\n",
      "<KerasTensor shape=(None, 5), dtype=float32, sparse=False, ragged=False, name=keras_tensor_5>\n",
      "<KerasTensor shape=(None, 6), dtype=float32, sparse=False, ragged=False, name=keras_tensor_6>\n",
      "<KerasTensor shape=(None, 1), dtype=float32, sparse=False, ragged=False, name=keras_tensor_7>\n",
      "<KerasTensor shape=(None, 1), dtype=float32, sparse=False, ragged=False, name=keras_tensor_8>\n",
      "<KerasTensor shape=(None, 1), dtype=float32, sparse=False, ragged=False, name=keras_tensor_9>\n",
      "<KerasTensor shape=(None, 1), dtype=float32, sparse=False, ragged=False, name=keras_tensor_10>\n",
      "<KerasTensor shape=(None, 1), dtype=float32, sparse=False, ragged=False, name=keras_tensor_11>\n",
      "<KerasTensor shape=(None, 1), dtype=float32, sparse=False, ragged=False, name=keras_tensor_12>\n"
     ]
    }
   ],
   "source": [
    "for i in feats_encoded:\n",
    "  print(i)"
   ]
  },
  {
   "cell_type": "markdown",
   "metadata": {
    "id": "O7Wkmq4_iu7C"
   },
   "source": [
    "Creamos una capa concatenando todas las variables codificadas"
   ]
  },
  {
   "cell_type": "code",
   "execution_count": 39,
   "metadata": {
    "executionInfo": {
     "elapsed": 9,
     "status": "ok",
     "timestamp": 1721354428482,
     "user": {
      "displayName": "Juan F Pérez",
      "userId": "13439628769322192552"
     },
     "user_tz": 300
    },
    "id": "MnCXNQmVzvFo"
   },
   "outputs": [],
   "source": [
    "all_feats = keras.layers.concatenate(feats_encoded)"
   ]
  },
  {
   "cell_type": "code",
   "execution_count": 40,
   "metadata": {
    "colab": {
     "base_uri": "https://localhost:8080/",
     "height": 187
    },
    "executionInfo": {
     "elapsed": 455,
     "status": "ok",
     "timestamp": 1721354428929,
     "user": {
      "displayName": "Juan F Pérez",
      "userId": "13439628769322192552"
     },
     "user_tz": 300
    },
    "id": "zaQ-LGQ-z1dZ",
    "outputId": "195c2dfe-fea2-49a1-f7a6-85993684bcc6"
   },
   "outputs": [
    {
     "data": {
      "text/plain": [
       "keras.src.backend.common.keras_tensor.KerasTensor"
      ]
     },
     "execution_count": 40,
     "metadata": {},
     "output_type": "execute_result"
    }
   ],
   "source": [
    "type(all_feats)"
   ]
  },
  {
   "cell_type": "markdown",
   "metadata": {
    "id": "jJDu5_h4i5K2"
   },
   "source": [
    "Agregamos una capa densa con 32 neuronas y función de activación relu"
   ]
  },
  {
   "cell_type": "code",
   "execution_count": 41,
   "metadata": {
    "executionInfo": {
     "elapsed": 9,
     "status": "ok",
     "timestamp": 1721354428930,
     "user": {
      "displayName": "Juan F Pérez",
      "userId": "13439628769322192552"
     },
     "user_tz": 300
    },
    "id": "9fQNOhhC0UKq"
   },
   "outputs": [],
   "source": [
    "model_layers = keras.layers.Dense(32, activation='relu')(all_feats)"
   ]
  },
  {
   "cell_type": "markdown",
   "metadata": {
    "id": "VpOkMLORjBus"
   },
   "source": [
    "Agregamos la capa de salida con 1 neurona (probabilidad de sufrir la enfermedad cardiada) y función de activación sigmoide"
   ]
  },
  {
   "cell_type": "code",
   "execution_count": 42,
   "metadata": {
    "executionInfo": {
     "elapsed": 8,
     "status": "ok",
     "timestamp": 1721354428930,
     "user": {
      "displayName": "Juan F Pérez",
      "userId": "13439628769322192552"
     },
     "user_tz": 300
    },
    "id": "-hJ3U5gg0cRa"
   },
   "outputs": [],
   "source": [
    "model_layers = keras.layers.Dense(1, activation='sigmoid')(model_layers)"
   ]
  },
  {
   "cell_type": "markdown",
   "metadata": {
    "id": "UE2Q7SqsjOZX"
   },
   "source": [
    "Creamos el modelo con las capas ya creadas y las variables de entrada"
   ]
  },
  {
   "cell_type": "code",
   "execution_count": 43,
   "metadata": {
    "executionInfo": {
     "elapsed": 8,
     "status": "ok",
     "timestamp": 1721354428930,
     "user": {
      "displayName": "Juan F Pérez",
      "userId": "13439628769322192552"
     },
     "user_tz": 300
    },
    "id": "hcQSv0j2z58b"
   },
   "outputs": [],
   "source": [
    "model = keras.Model(inputs, model_layers)"
   ]
  },
  {
   "cell_type": "markdown",
   "metadata": {
    "id": "ZNagIagJjXNG"
   },
   "source": [
    "Compilamos el modelo, definiendo optimizador, función de pérdida y métricas adicionales a capturar"
   ]
  },
  {
   "cell_type": "code",
   "execution_count": 44,
   "metadata": {
    "executionInfo": {
     "elapsed": 8,
     "status": "ok",
     "timestamp": 1721354428931,
     "user": {
      "displayName": "Juan F Pérez",
      "userId": "13439628769322192552"
     },
     "user_tz": 300
    },
    "id": "Mkx1iu9i0qZR"
   },
   "outputs": [],
   "source": [
    "model.compile(optimizer='adam', loss='binary_crossentropy', metrics=['accuracy'])"
   ]
  },
  {
   "cell_type": "code",
   "execution_count": 45,
   "metadata": {
    "colab": {
     "base_uri": "https://localhost:8080/",
     "height": 529
    },
    "executionInfo": {
     "elapsed": 1770,
     "status": "ok",
     "timestamp": 1721354430694,
     "user": {
      "displayName": "Juan F Pérez",
      "userId": "13439628769322192552"
     },
     "user_tz": 300
    },
    "id": "xLhp4Tdf1jPM",
    "outputId": "f9fa4479-6a9a-47da-b375-2be42bbb407d"
   },
   "outputs": [
    {
     "name": "stdout",
     "output_type": "stream",
     "text": [
      "You must install graphviz (see instructions at https://graphviz.gitlab.io/download/) for `plot_model` to work.\n"
     ]
    }
   ],
   "source": [
    "keras.utils.plot_model(model, show_shapes=True, rankdir=\"LR\")"
   ]
  },
  {
   "cell_type": "markdown",
   "metadata": {
    "id": "boQih7bljscZ"
   },
   "source": [
    "Aseguramos que Keras use TensorFlow como backend, para asegurar que el modelo pueda usar strings como entradas"
   ]
  },
  {
   "cell_type": "code",
   "execution_count": 46,
   "metadata": {
    "executionInfo": {
     "elapsed": 24,
     "status": "ok",
     "timestamp": 1721354430694,
     "user": {
      "displayName": "Juan F Pérez",
      "userId": "13439628769322192552"
     },
     "user_tz": 300
    },
    "id": "K_mKv-Bn6h4H"
   },
   "outputs": [],
   "source": [
    "import os\n",
    "os.environ[\"KERAS_BACKEND\"] = \"tensorflow\""
   ]
  },
  {
   "cell_type": "markdown",
   "metadata": {
    "id": "z-2-ELq4jtdb"
   },
   "source": [
    "Entrenamos el modelo con los datos en el formato tf.Dataset"
   ]
  },
  {
   "cell_type": "code",
   "execution_count": 47,
   "metadata": {
    "colab": {
     "base_uri": "https://localhost:8080/"
    },
    "executionInfo": {
     "elapsed": 11937,
     "status": "ok",
     "timestamp": 1721335304540,
     "user": {
      "displayName": "Juan F Pérez",
      "userId": "13439628769322192552"
     },
     "user_tz": 300
    },
    "id": "DebRVUwi04dx",
    "outputId": "72f11b7b-3a18-439e-b286-835d01e78795"
   },
   "outputs": [
    {
     "name": "stdout",
     "output_type": "stream",
     "text": [
      "Epoch 1/50\n",
      "\u001b[1m7/7\u001b[0m \u001b[32m━━━━━━━━━━━━━━━━━━━━\u001b[0m\u001b[37m\u001b[0m \u001b[1m1s\u001b[0m 55ms/step - accuracy: 0.6457 - loss: 0.6430 - val_accuracy: 0.7083 - val_loss: 0.6098\n",
      "Epoch 2/50\n",
      "\u001b[1m7/7\u001b[0m \u001b[32m━━━━━━━━━━━━━━━━━━━━\u001b[0m\u001b[37m\u001b[0m \u001b[1m0s\u001b[0m 4ms/step - accuracy: 0.7070 - loss: 0.5916 - val_accuracy: 0.8125 - val_loss: 0.5619\n",
      "Epoch 3/50\n",
      "\u001b[1m7/7\u001b[0m \u001b[32m━━━━━━━━━━━━━━━━━━━━\u001b[0m\u001b[37m\u001b[0m \u001b[1m0s\u001b[0m 4ms/step - accuracy: 0.8162 - loss: 0.5220 - val_accuracy: 0.8333 - val_loss: 0.5269\n",
      "Epoch 4/50\n",
      "\u001b[1m7/7\u001b[0m \u001b[32m━━━━━━━━━━━━━━━━━━━━\u001b[0m\u001b[37m\u001b[0m \u001b[1m0s\u001b[0m 3ms/step - accuracy: 0.8125 - loss: 0.4892 - val_accuracy: 0.8125 - val_loss: 0.4990\n",
      "Epoch 5/50\n",
      "\u001b[1m7/7\u001b[0m \u001b[32m━━━━━━━━━━━━━━━━━━━━\u001b[0m\u001b[37m\u001b[0m \u001b[1m0s\u001b[0m 3ms/step - accuracy: 0.8044 - loss: 0.4694 - val_accuracy: 0.8125 - val_loss: 0.4768\n",
      "Epoch 6/50\n",
      "\u001b[1m7/7\u001b[0m \u001b[32m━━━━━━━━━━━━━━━━━━━━\u001b[0m\u001b[37m\u001b[0m \u001b[1m0s\u001b[0m 3ms/step - accuracy: 0.8386 - loss: 0.4261 - val_accuracy: 0.8125 - val_loss: 0.4600\n",
      "Epoch 7/50\n",
      "\u001b[1m7/7\u001b[0m \u001b[32m━━━━━━━━━━━━━━━━━━━━\u001b[0m\u001b[37m\u001b[0m \u001b[1m0s\u001b[0m 5ms/step - accuracy: 0.8142 - loss: 0.4302 - val_accuracy: 0.8125 - val_loss: 0.4459\n",
      "Epoch 8/50\n",
      "\u001b[1m7/7\u001b[0m \u001b[32m━━━━━━━━━━━━━━━━━━━━\u001b[0m\u001b[37m\u001b[0m \u001b[1m0s\u001b[0m 5ms/step - accuracy: 0.8005 - loss: 0.4249 - val_accuracy: 0.8125 - val_loss: 0.4336\n",
      "Epoch 9/50\n",
      "\u001b[1m7/7\u001b[0m \u001b[32m━━━━━━━━━━━━━━━━━━━━\u001b[0m\u001b[37m\u001b[0m \u001b[1m0s\u001b[0m 5ms/step - accuracy: 0.8136 - loss: 0.4093 - val_accuracy: 0.8125 - val_loss: 0.4242\n",
      "Epoch 10/50\n",
      "\u001b[1m7/7\u001b[0m \u001b[32m━━━━━━━━━━━━━━━━━━━━\u001b[0m\u001b[37m\u001b[0m \u001b[1m0s\u001b[0m 3ms/step - accuracy: 0.8342 - loss: 0.4033 - val_accuracy: 0.8125 - val_loss: 0.4150\n",
      "Epoch 11/50\n",
      "\u001b[1m7/7\u001b[0m \u001b[32m━━━━━━━━━━━━━━━━━━━━\u001b[0m\u001b[37m\u001b[0m \u001b[1m0s\u001b[0m 3ms/step - accuracy: 0.8353 - loss: 0.3913 - val_accuracy: 0.8125 - val_loss: 0.4071\n",
      "Epoch 12/50\n",
      "\u001b[1m7/7\u001b[0m \u001b[32m━━━━━━━━━━━━━━━━━━━━\u001b[0m\u001b[37m\u001b[0m \u001b[1m0s\u001b[0m 5ms/step - accuracy: 0.8266 - loss: 0.3959 - val_accuracy: 0.8125 - val_loss: 0.4009\n",
      "Epoch 13/50\n",
      "\u001b[1m7/7\u001b[0m \u001b[32m━━━━━━━━━━━━━━━━━━━━\u001b[0m\u001b[37m\u001b[0m \u001b[1m0s\u001b[0m 3ms/step - accuracy: 0.8339 - loss: 0.3825 - val_accuracy: 0.8125 - val_loss: 0.3959\n",
      "Epoch 14/50\n",
      "\u001b[1m7/7\u001b[0m \u001b[32m━━━━━━━━━━━━━━━━━━━━\u001b[0m\u001b[37m\u001b[0m \u001b[1m0s\u001b[0m 5ms/step - accuracy: 0.8557 - loss: 0.3523 - val_accuracy: 0.8125 - val_loss: 0.3917\n",
      "Epoch 15/50\n",
      "\u001b[1m7/7\u001b[0m \u001b[32m━━━━━━━━━━━━━━━━━━━━\u001b[0m\u001b[37m\u001b[0m \u001b[1m0s\u001b[0m 5ms/step - accuracy: 0.8516 - loss: 0.3554 - val_accuracy: 0.8125 - val_loss: 0.3908\n",
      "Epoch 16/50\n",
      "\u001b[1m7/7\u001b[0m \u001b[32m━━━━━━━━━━━━━━━━━━━━\u001b[0m\u001b[37m\u001b[0m \u001b[1m0s\u001b[0m 12ms/step - accuracy: 0.8606 - loss: 0.3669 - val_accuracy: 0.8125 - val_loss: 0.3886\n",
      "Epoch 17/50\n",
      "\u001b[1m7/7\u001b[0m \u001b[32m━━━━━━━━━━━━━━━━━━━━\u001b[0m\u001b[37m\u001b[0m \u001b[1m0s\u001b[0m 19ms/step - accuracy: 0.8657 - loss: 0.3435 - val_accuracy: 0.8125 - val_loss: 0.3869\n",
      "Epoch 18/50\n",
      "\u001b[1m7/7\u001b[0m \u001b[32m━━━━━━━━━━━━━━━━━━━━\u001b[0m\u001b[37m\u001b[0m \u001b[1m0s\u001b[0m 8ms/step - accuracy: 0.8886 - loss: 0.3278 - val_accuracy: 0.8125 - val_loss: 0.3842\n",
      "Epoch 19/50\n",
      "\u001b[1m7/7\u001b[0m \u001b[32m━━━━━━━━━━━━━━━━━━━━\u001b[0m\u001b[37m\u001b[0m \u001b[1m0s\u001b[0m 8ms/step - accuracy: 0.8715 - loss: 0.3420 - val_accuracy: 0.8125 - val_loss: 0.3809\n",
      "Epoch 20/50\n",
      "\u001b[1m7/7\u001b[0m \u001b[32m━━━━━━━━━━━━━━━━━━━━\u001b[0m\u001b[37m\u001b[0m \u001b[1m0s\u001b[0m 8ms/step - accuracy: 0.8947 - loss: 0.3071 - val_accuracy: 0.8125 - val_loss: 0.3761\n",
      "Epoch 21/50\n",
      "\u001b[1m7/7\u001b[0m \u001b[32m━━━━━━━━━━━━━━━━━━━━\u001b[0m\u001b[37m\u001b[0m \u001b[1m0s\u001b[0m 5ms/step - accuracy: 0.8422 - loss: 0.3533 - val_accuracy: 0.8125 - val_loss: 0.3727\n",
      "Epoch 22/50\n",
      "\u001b[1m7/7\u001b[0m \u001b[32m━━━━━━━━━━━━━━━━━━━━\u001b[0m\u001b[37m\u001b[0m \u001b[1m0s\u001b[0m 5ms/step - accuracy: 0.8350 - loss: 0.3639 - val_accuracy: 0.8125 - val_loss: 0.3700\n",
      "Epoch 23/50\n",
      "\u001b[1m7/7\u001b[0m \u001b[32m━━━━━━━━━━━━━━━━━━━━\u001b[0m\u001b[37m\u001b[0m \u001b[1m0s\u001b[0m 5ms/step - accuracy: 0.8796 - loss: 0.3171 - val_accuracy: 0.8125 - val_loss: 0.3678\n",
      "Epoch 24/50\n",
      "\u001b[1m7/7\u001b[0m \u001b[32m━━━━━━━━━━━━━━━━━━━━\u001b[0m\u001b[37m\u001b[0m \u001b[1m0s\u001b[0m 3ms/step - accuracy: 0.8769 - loss: 0.3062 - val_accuracy: 0.8333 - val_loss: 0.3655\n",
      "Epoch 25/50\n",
      "\u001b[1m7/7\u001b[0m \u001b[32m━━━━━━━━━━━━━━━━━━━━\u001b[0m\u001b[37m\u001b[0m \u001b[1m0s\u001b[0m 7ms/step - accuracy: 0.8608 - loss: 0.3140 - val_accuracy: 0.8333 - val_loss: 0.3679\n",
      "Epoch 26/50\n",
      "\u001b[1m7/7\u001b[0m \u001b[32m━━━━━━━━━━━━━━━━━━━━\u001b[0m\u001b[37m\u001b[0m \u001b[1m0s\u001b[0m 5ms/step - accuracy: 0.8586 - loss: 0.3327 - val_accuracy: 0.8333 - val_loss: 0.3701\n",
      "Epoch 27/50\n",
      "\u001b[1m7/7\u001b[0m \u001b[32m━━━━━━━━━━━━━━━━━━━━\u001b[0m\u001b[37m\u001b[0m \u001b[1m0s\u001b[0m 3ms/step - accuracy: 0.8726 - loss: 0.3167 - val_accuracy: 0.8333 - val_loss: 0.3727\n",
      "Epoch 28/50\n",
      "\u001b[1m7/7\u001b[0m \u001b[32m━━━━━━━━━━━━━━━━━━━━\u001b[0m\u001b[37m\u001b[0m \u001b[1m0s\u001b[0m 3ms/step - accuracy: 0.9064 - loss: 0.2815 - val_accuracy: 0.8333 - val_loss: 0.3722\n",
      "Epoch 29/50\n",
      "\u001b[1m7/7\u001b[0m \u001b[32m━━━━━━━━━━━━━━━━━━━━\u001b[0m\u001b[37m\u001b[0m \u001b[1m0s\u001b[0m 3ms/step - accuracy: 0.8753 - loss: 0.3178 - val_accuracy: 0.8333 - val_loss: 0.3706\n",
      "Epoch 30/50\n",
      "\u001b[1m7/7\u001b[0m \u001b[32m━━━━━━━━━━━━━━━━━━━━\u001b[0m\u001b[37m\u001b[0m \u001b[1m0s\u001b[0m 3ms/step - accuracy: 0.8759 - loss: 0.2916 - val_accuracy: 0.8333 - val_loss: 0.3685\n",
      "Epoch 31/50\n",
      "\u001b[1m7/7\u001b[0m \u001b[32m━━━━━━━━━━━━━━━━━━━━\u001b[0m\u001b[37m\u001b[0m \u001b[1m0s\u001b[0m 4ms/step - accuracy: 0.8704 - loss: 0.3201 - val_accuracy: 0.8333 - val_loss: 0.3700\n",
      "Epoch 32/50\n",
      "\u001b[1m7/7\u001b[0m \u001b[32m━━━━━━━━━━━━━━━━━━━━\u001b[0m\u001b[37m\u001b[0m \u001b[1m0s\u001b[0m 4ms/step - accuracy: 0.8987 - loss: 0.2754 - val_accuracy: 0.8333 - val_loss: 0.3702\n",
      "Epoch 33/50\n",
      "\u001b[1m7/7\u001b[0m \u001b[32m━━━━━━━━━━━━━━━━━━━━\u001b[0m\u001b[37m\u001b[0m \u001b[1m0s\u001b[0m 4ms/step - accuracy: 0.9063 - loss: 0.2662 - val_accuracy: 0.8542 - val_loss: 0.3711\n",
      "Epoch 34/50\n",
      "\u001b[1m7/7\u001b[0m \u001b[32m━━━━━━━━━━━━━━━━━━━━\u001b[0m\u001b[37m\u001b[0m \u001b[1m0s\u001b[0m 4ms/step - accuracy: 0.8842 - loss: 0.2959 - val_accuracy: 0.8542 - val_loss: 0.3695\n",
      "Epoch 35/50\n",
      "\u001b[1m7/7\u001b[0m \u001b[32m━━━━━━━━━━━━━━━━━━━━\u001b[0m\u001b[37m\u001b[0m \u001b[1m0s\u001b[0m 3ms/step - accuracy: 0.8571 - loss: 0.3144 - val_accuracy: 0.8542 - val_loss: 0.3679\n",
      "Epoch 36/50\n",
      "\u001b[1m7/7\u001b[0m \u001b[32m━━━━━━━━━━━━━━━━━━━━\u001b[0m\u001b[37m\u001b[0m \u001b[1m0s\u001b[0m 5ms/step - accuracy: 0.8896 - loss: 0.2840 - val_accuracy: 0.8542 - val_loss: 0.3695\n",
      "Epoch 37/50\n",
      "\u001b[1m7/7\u001b[0m \u001b[32m━━━━━━━━━━━━━━━━━━━━\u001b[0m\u001b[37m\u001b[0m \u001b[1m0s\u001b[0m 4ms/step - accuracy: 0.8757 - loss: 0.2816 - val_accuracy: 0.8542 - val_loss: 0.3693\n",
      "Epoch 38/50\n",
      "\u001b[1m7/7\u001b[0m \u001b[32m━━━━━━━━━━━━━━━━━━━━\u001b[0m\u001b[37m\u001b[0m \u001b[1m0s\u001b[0m 5ms/step - accuracy: 0.8880 - loss: 0.2824 - val_accuracy: 0.8542 - val_loss: 0.3682\n",
      "Epoch 39/50\n",
      "\u001b[1m7/7\u001b[0m \u001b[32m━━━━━━━━━━━━━━━━━━━━\u001b[0m\u001b[37m\u001b[0m \u001b[1m0s\u001b[0m 5ms/step - accuracy: 0.9198 - loss: 0.2267 - val_accuracy: 0.8542 - val_loss: 0.3631\n",
      "Epoch 40/50\n",
      "\u001b[1m7/7\u001b[0m \u001b[32m━━━━━━━━━━━━━━━━━━━━\u001b[0m\u001b[37m\u001b[0m \u001b[1m0s\u001b[0m 8ms/step - accuracy: 0.8803 - loss: 0.2620 - val_accuracy: 0.8542 - val_loss: 0.3599\n",
      "Epoch 41/50\n",
      "\u001b[1m7/7\u001b[0m \u001b[32m━━━━━━━━━━━━━━━━━━━━\u001b[0m\u001b[37m\u001b[0m \u001b[1m0s\u001b[0m 6ms/step - accuracy: 0.8686 - loss: 0.2756 - val_accuracy: 0.8542 - val_loss: 0.3574\n",
      "Epoch 42/50\n",
      "\u001b[1m7/7\u001b[0m \u001b[32m━━━━━━━━━━━━━━━━━━━━\u001b[0m\u001b[37m\u001b[0m \u001b[1m0s\u001b[0m 7ms/step - accuracy: 0.8760 - loss: 0.2610 - val_accuracy: 0.8542 - val_loss: 0.3555\n",
      "Epoch 43/50\n",
      "\u001b[1m7/7\u001b[0m \u001b[32m━━━━━━━━━━━━━━━━━━━━\u001b[0m\u001b[37m\u001b[0m \u001b[1m0s\u001b[0m 8ms/step - accuracy: 0.8805 - loss: 0.2549 - val_accuracy: 0.8542 - val_loss: 0.3567\n",
      "Epoch 44/50\n",
      "\u001b[1m7/7\u001b[0m \u001b[32m━━━━━━━━━━━━━━━━━━━━\u001b[0m\u001b[37m\u001b[0m \u001b[1m0s\u001b[0m 6ms/step - accuracy: 0.8905 - loss: 0.2444 - val_accuracy: 0.8333 - val_loss: 0.3584\n",
      "Epoch 45/50\n",
      "\u001b[1m7/7\u001b[0m \u001b[32m━━━━━━━━━━━━━━━━━━━━\u001b[0m\u001b[37m\u001b[0m \u001b[1m0s\u001b[0m 9ms/step - accuracy: 0.8736 - loss: 0.2648 - val_accuracy: 0.7917 - val_loss: 0.3642\n",
      "Epoch 46/50\n",
      "\u001b[1m7/7\u001b[0m \u001b[32m━━━━━━━━━━━━━━━━━━━━\u001b[0m\u001b[37m\u001b[0m \u001b[1m0s\u001b[0m 8ms/step - accuracy: 0.8920 - loss: 0.2568 - val_accuracy: 0.7917 - val_loss: 0.3654\n",
      "Epoch 47/50\n",
      "\u001b[1m7/7\u001b[0m \u001b[32m━━━━━━━━━━━━━━━━━━━━\u001b[0m\u001b[37m\u001b[0m \u001b[1m0s\u001b[0m 8ms/step - accuracy: 0.8857 - loss: 0.2605 - val_accuracy: 0.7917 - val_loss: 0.3653\n",
      "Epoch 48/50\n",
      "\u001b[1m7/7\u001b[0m \u001b[32m━━━━━━━━━━━━━━━━━━━━\u001b[0m\u001b[37m\u001b[0m \u001b[1m0s\u001b[0m 8ms/step - accuracy: 0.8975 - loss: 0.2484 - val_accuracy: 0.7917 - val_loss: 0.3658\n",
      "Epoch 49/50\n",
      "\u001b[1m7/7\u001b[0m \u001b[32m━━━━━━━━━━━━━━━━━━━━\u001b[0m\u001b[37m\u001b[0m \u001b[1m0s\u001b[0m 6ms/step - accuracy: 0.9030 - loss: 0.2333 - val_accuracy: 0.7917 - val_loss: 0.3639\n",
      "Epoch 50/50\n",
      "\u001b[1m7/7\u001b[0m \u001b[32m━━━━━━━━━━━━━━━━━━━━\u001b[0m\u001b[37m\u001b[0m \u001b[1m0s\u001b[0m 5ms/step - accuracy: 0.8750 - loss: 0.2679 - val_accuracy: 0.7917 - val_loss: 0.3639\n"
     ]
    }
   ],
   "source": [
    "hostory = model.fit(train_ds, epochs=50, validation_data=val_ds)"
   ]
  },
  {
   "cell_type": "code",
   "execution_count": 48,
   "metadata": {},
   "outputs": [
    {
     "data": {
      "text/plain": [
       "<matplotlib.legend.Legend at 0x212fdc21c70>"
      ]
     },
     "execution_count": 48,
     "metadata": {},
     "output_type": "execute_result"
    },
    {
     "data": {
      "image/png": "[encoded data removed]",
      "text/plain": [
       "<Figure size 640x480 with 1 Axes>"
      ]
     },
     "metadata": {},
     "output_type": "display_data"
    }
   ],
   "source": [
    "from matplotlib import pyplot as plt\n",
    "\n",
    "\n",
    "plt.plot(hostory.history['loss'], label='loss')\n",
    "plt.plot(hostory.history['val_loss'], label='val_loss')\n",
    "plt.xlabel('Epoch')\n",
    "plt.ylabel('Error')\n",
    "plt.legend()"
   ]
  },
  {
   "cell_type": "code",
   "execution_count": 49,
   "metadata": {},
   "outputs": [
    {
     "name": "stdout",
     "output_type": "stream",
     "text": [
      "<_BatchDataset element_spec=({'sex': TensorSpec(shape=(None,), dtype=tf.int64, name=None), 'cp': TensorSpec(shape=(None,), dtype=tf.int64, name=None), 'fbs': TensorSpec(shape=(None,), dtype=tf.int64, name=None), 'restecg': TensorSpec(shape=(None,), dtype=tf.int64, name=None), 'exang': TensorSpec(shape=(None,), dtype=tf.int64, name=None), 'ca': TensorSpec(shape=(None,), dtype=tf.int64, name=None), 'thal': TensorSpec(shape=(None,), dtype=tf.string, name=None), 'age': TensorSpec(shape=(None,), dtype=tf.int64, name=None), 'trestbps': TensorSpec(shape=(None,), dtype=tf.int64, name=None), 'chol': TensorSpec(shape=(None,), dtype=tf.int64, name=None), 'thalach': TensorSpec(shape=(None,), dtype=tf.int64, name=None), 'oldpeak': TensorSpec(shape=(None,), dtype=tf.float64, name=None), 'slope': TensorSpec(shape=(None,), dtype=tf.int64, name=None)}, TensorSpec(shape=(None,), dtype=tf.int64, name=None))>\n",
      "\u001b[1m2/2\u001b[0m \u001b[32m━━━━━━━━━━━━━━━━━━━━\u001b[0m\u001b[37m\u001b[0m \u001b[1m1s\u001b[0m 500ms/step\n",
      "61\n"
     ]
    },
    {
     "data": {
      "text/plain": [
       "array([[0.7518829 ],\n",
       "       [0.24642107],\n",
       "       [0.02605755],\n",
       "       [0.75580657],\n",
       "       [0.16174272],\n",
       "       [0.00793385],\n",
       "       [0.2127563 ],\n",
       "       [0.01233731],\n",
       "       [0.7967082 ],\n",
       "       [0.73013234],\n",
       "       [0.09026187],\n",
       "       [0.00767338],\n",
       "       [0.00658917],\n",
       "       [0.05725778],\n",
       "       [0.01077479],\n",
       "       [0.01774674],\n",
       "       [0.42575932],\n",
       "       [0.14603199],\n",
       "       [0.00866062],\n",
       "       [0.02166587],\n",
       "       [0.9452685 ],\n",
       "       [0.0203636 ],\n",
       "       [0.893307  ],\n",
       "       [0.39347473],\n",
       "       [0.82389253],\n",
       "       [0.05743473],\n",
       "       [0.08255303],\n",
       "       [0.51336086],\n",
       "       [0.6360663 ],\n",
       "       [0.00817881],\n",
       "       [0.05922879],\n",
       "       [0.01217435],\n",
       "       [0.24349153],\n",
       "       [0.00419561],\n",
       "       [0.36940345],\n",
       "       [0.58507377],\n",
       "       [0.06539421],\n",
       "       [0.23077075],\n",
       "       [0.03829474],\n",
       "       [0.00923479],\n",
       "       [0.70882165],\n",
       "       [0.92273164],\n",
       "       [0.55781484],\n",
       "       [0.8331087 ],\n",
       "       [0.01559982],\n",
       "       [0.20630582],\n",
       "       [0.45403463],\n",
       "       [0.11714891],\n",
       "       [0.02719711],\n",
       "       [0.55947506],\n",
       "       [0.08760323],\n",
       "       [0.8913864 ],\n",
       "       [0.01277799],\n",
       "       [0.00964045],\n",
       "       [0.29088047],\n",
       "       [0.00654273],\n",
       "       [0.7579336 ],\n",
       "       [0.910602  ],\n",
       "       [0.25284407],\n",
       "       [0.02338844],\n",
       "       [0.6401057 ]], dtype=float32)"
      ]
     },
     "execution_count": 49,
     "metadata": {},
     "output_type": "execute_result"
    }
   ],
   "source": [
    "print(test_ds)\n",
    "y_pred_modelo= model.predict(test_ds)\n",
    "print(len(y_pred_modelo))\n",
    "y_pred_modelo"
   ]
  },
  {
   "cell_type": "code",
   "execution_count": 50,
   "metadata": {},
   "outputs": [
    {
     "name": "stdout",
     "output_type": "stream",
     "text": [
      "[0 1 0 0 1 0 0 1 1 1 0 0 0 0 0 0 0 0 0 0 0 0 1 1 1 1 0 0 0 1 0 0 0 1 1 0 0\n",
      " 0 0 1 1 1 1 0 1 1 0 0 0 0 0 0 0 1 0 1 0 0 0 1 0]\n",
      "61\n",
      "[[1]\n",
      " [0]\n",
      " [0]\n",
      " [1]\n",
      " [0]\n",
      " [0]\n",
      " [0]\n",
      " [0]\n",
      " [1]\n",
      " [1]\n",
      " [0]\n",
      " [0]\n",
      " [0]\n",
      " [0]\n",
      " [0]\n",
      " [0]\n",
      " [0]\n",
      " [0]\n",
      " [0]\n",
      " [0]\n",
      " [1]\n",
      " [0]\n",
      " [1]\n",
      " [0]\n",
      " [1]\n",
      " [0]\n",
      " [0]\n",
      " [1]\n",
      " [1]\n",
      " [0]\n",
      " [0]\n",
      " [0]\n",
      " [0]\n",
      " [0]\n",
      " [0]\n",
      " [1]\n",
      " [0]\n",
      " [0]\n",
      " [0]\n",
      " [0]\n",
      " [1]\n",
      " [1]\n",
      " [1]\n",
      " [1]\n",
      " [0]\n",
      " [0]\n",
      " [0]\n",
      " [0]\n",
      " [0]\n",
      " [1]\n",
      " [0]\n",
      " [1]\n",
      " [0]\n",
      " [0]\n",
      " [0]\n",
      " [0]\n",
      " [1]\n",
      " [1]\n",
      " [0]\n",
      " [0]\n",
      " [1]]\n",
      "--- MÉTRICAS DEL MODELO (Entrenamiento) ---\n",
      "Accuracy: 0.5738\n",
      "Precision: 0.3684\n",
      "Recall: 0.3333\n",
      "F1 Score: 0.3500\n",
      "F2 Score: 0.3398\n",
      "ROC AUC Score: 0.5167\n"
     ]
    },
    {
     "data": {
      "image/png": "[encoded data removed]",
      "text/plain": [
       "<Figure size 600x400 with 2 Axes>"
      ]
     },
     "metadata": {},
     "output_type": "display_data"
    }
   ],
   "source": [
    "from sklearn.metrics import accuracy_score, precision_score, recall_score, f1_score, fbeta_score, roc_auc_score, confusion_matrix, classification_report\n",
    "import seaborn as sns\n",
    "import numpy as np\n",
    "\n",
    "y_true = np.concatenate([y.numpy() for _, y in test_ds], axis=0)\n",
    "print(y_true)\n",
    "print(len(y_true))\n",
    "\n",
    "def to_binary_predictions(array, threshold=0.5):\n",
    "    return (array >= threshold).astype(int)\n",
    "\n",
    "# Example usage:\n",
    "y_pred_modelo = to_binary_predictions(y_pred_modelo)\n",
    "\n",
    "print(y_pred_modelo)\n",
    "\n",
    "\n",
    "\n",
    "# Evaluación\n",
    "accuracy = accuracy_score(y_true, y_pred_modelo)\n",
    "precision = precision_score(y_true, y_pred_modelo)\n",
    "recall = recall_score(y_true, y_pred_modelo)\n",
    "f1 = f1_score(y_true, y_pred_modelo)\n",
    "f2 = fbeta_score(y_true, y_pred_modelo, beta=2)\n",
    "roc_auc = roc_auc_score(y_true, y_pred_modelo)\n",
    "\n",
    "print(\"--- MÉTRICAS DEL MODELO (Entrenamiento) ---\")\n",
    "print(f\"Accuracy: {accuracy:.4f}\")\n",
    "print(f\"Precision: {precision:.4f}\")\n",
    "print(f\"Recall: {recall:.4f}\")\n",
    "print(f\"F1 Score: {f1:.4f}\")\n",
    "print(f\"F2 Score: {f2:.4f}\")\n",
    "print(f\"ROC AUC Score: {roc_auc:.4f}\")\n",
    "\n",
    "# Matriz de confusión\n",
    "conf_matrix = confusion_matrix(y_true, y_pred_modelo)\n",
    "plt.figure(figsize=(6, 4))\n",
    "sns.heatmap(conf_matrix, annot=True, fmt='d', cmap='Blues')#, xticklabels = ['No Setosa', 'Setosa'], yticklabels= ['No Setosa', 'Setosa'])\n",
    "plt.xlabel('Predicted')\n",
    "plt.ylabel('Actual')\n",
    "plt.title('Matriz de Confusión - Test')\n",
    "plt.show()"
   ]
  }
 ],
 "metadata": {
  "colab": {
   "provenance": []
  },
  "kernelspec": {
   "display_name": "Python 3",
   "language": "python",
   "name": "python3"
  },
  "language_info": {
   "codemirror_mode": {
    "name": "ipython",
    "version": 3
   },
   "file_extension": ".py",
   "mimetype": "text/x-python",
   "name": "python",
   "nbconvert_exporter": "python",
   "pygments_lexer": "ipython3",
   "version": "3.12.1"
  },
  "orig_nbformat": 4
 },
 "nbformat": 4,
 "nbformat_minor": 0
}
