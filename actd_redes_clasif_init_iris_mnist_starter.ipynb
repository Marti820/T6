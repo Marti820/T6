{
 "cells": [
  {
   "cell_type": "markdown",
   "metadata": {
    "id": "C1o4r-O2n7Y7"
   },
   "source": [
    "## ACTD 2025-10"
   ]
  },
  {
   "cell_type": "markdown",
   "metadata": {
    "id": "dTz1d1tjn7Y-"
   },
   "source": [
    "### Clases 13-14: redes neuronales para clasificación\n",
    "\n",
    "- Redes densas\n",
    "- Redes para clasificación\n",
    "- Procesamiento de datos continuos y categóricos\n",
    "- Funciones de activación y pérdida"
   ]
  },
  {
   "cell_type": "markdown",
   "metadata": {
    "id": "6_u4uplMn7ZG"
   },
   "source": [
    "Construyamos un modelo para clasificar flores con el dataet iris usando Keras y Tensorflow"
   ]
  },
  {
   "cell_type": "code",
   "execution_count": 1,
   "metadata": {
    "executionInfo": {
     "elapsed": 15368,
     "status": "ok",
     "timestamp": 1721336286428,
     "user": {
      "displayName": "Juan F Pérez",
      "userId": "13439628769322192552"
     },
     "user_tz": 300
    },
    "id": "YKyp5NS9n7ZG"
   },
   "outputs": [],
   "source": [
    "import tensorflow as tf\n",
    "\n",
    "from sklearn.datasets import load_iris\n",
    "from sklearn.model_selection import train_test_split\n",
    "from sklearn.preprocessing import StandardScaler"
   ]
  },
  {
   "cell_type": "markdown",
   "metadata": {
    "id": "qcBf1NC8o3DM"
   },
   "source": [
    "Importemos y exploremos los datos"
   ]
  },
  {
   "cell_type": "code",
   "execution_count": 2,
   "metadata": {
    "colab": {
     "base_uri": "https://localhost:8080/"
    },
    "executionInfo": {
     "elapsed": 200,
     "status": "ok",
     "timestamp": 1721336304782,
     "user": {
      "displayName": "Juan F Pérez",
      "userId": "13439628769322192552"
     },
     "user_tz": 300
    },
    "id": "_KVvIjVNoxMP",
    "outputId": "e167143b-56a2-4e88-93cf-a6ef323486c4"
   },
   "outputs": [
    {
     "name": "stdout",
     "output_type": "stream",
     "text": [
      "[[5.1 3.5 1.4 0.2]\n",
      " [4.9 3.  1.4 0.2]\n",
      " [4.7 3.2 1.3 0.2]]\n",
      "[0 0 0]\n"
     ]
    }
   ],
   "source": [
    "iris = load_iris()\n",
    "\n",
    "print(iris.data[0:3,])\n",
    "print(iris.target[0:3,])"
   ]
  },
  {
   "cell_type": "markdown",
   "metadata": {
    "id": "OUKvKOGyo7EJ"
   },
   "source": [
    "Codifiquemos la variable de salida como categórica con 3 clases"
   ]
  },
  {
   "cell_type": "code",
   "execution_count": 3,
   "metadata": {
    "colab": {
     "base_uri": "https://localhost:8080/"
    },
    "executionInfo": {
     "elapsed": 188,
     "status": "ok",
     "timestamp": 1721336389392,
     "user": {
      "displayName": "Juan F Pérez",
      "userId": "13439628769322192552"
     },
     "user_tz": 300
    },
    "id": "0dkqdslno2Nx",
    "outputId": "a605a439-67ac-4f7a-90ae-4412ce9e515d"
   },
   "outputs": [
    {
     "name": "stdout",
     "output_type": "stream",
     "text": [
      "[[1. 0. 0.]\n",
      " [1. 0. 0.]\n",
      " [1. 0. 0.]]\n",
      "(150, 3)\n"
     ]
    }
   ],
   "source": [
    "y = tf.keras.utils.to_categorical(iris.target, num_classes=3)\n",
    "\n",
    "print(y[0:3,])\n",
    "print(y.shape)"
   ]
  },
  {
   "cell_type": "markdown",
   "metadata": {
    "id": "FWG_D83KpCPk"
   },
   "source": [
    "Dividamos los datos en entrenamiendo, validación y prueba usando Scikit-Learn"
   ]
  },
  {
   "cell_type": "code",
   "execution_count": null,
   "metadata": {
    "colab": {
     "base_uri": "https://localhost:8080/"
    },
    "executionInfo": {
     "elapsed": 227,
     "status": "ok",
     "timestamp": 1721336391614,
     "user": {
      "displayName": "Juan F Pérez",
      "userId": "13439628769322192552"
     },
     "user_tz": 300
    },
    "id": "AD_PtS4kpCoz",
    "outputId": "75c263f2-d92d-469a-b0bf-1f35df5492d3"
   },
   "outputs": [],
   "source": [
    "X_train_full, X_test, y_train_full, y_test = train_test_split(\n",
    "    iris.data, y, test_size=0.2, random_state=42)\n",
    "X_train, X_valid, y_train, y_valid = train_test_split(\n",
    "    X_train_full, y_train_full, test_size=0.2, random_state=42)\n",
    "\n",
    "X_train.shape"
   ]
  },
  {
   "cell_type": "markdown",
   "metadata": {
    "id": "MipjsZOqpMxQ"
   },
   "source": [
    "Reescalemos los datos (inputs X) usando una normalización estándar"
   ]
  },
  {
   "cell_type": "code",
   "execution_count": null,
   "metadata": {
    "colab": {
     "base_uri": "https://localhost:8080/"
    },
    "executionInfo": {
     "elapsed": 190,
     "status": "ok",
     "timestamp": 1721336442478,
     "user": {
      "displayName": "Juan F Pérez",
      "userId": "13439628769322192552"
     },
     "user_tz": 300
    },
    "id": "Lv5eDbRVpNNs",
    "outputId": "ed61c30d-d8c8-48e5-b7cd-295593cd888b"
   },
   "outputs": [],
   "source": [
    "std_scl = StandardScaler()\n",
    "std_scl.fit(X_train)\n",
    "\n",
    "print(X_train[0:3,])\n",
    "X_train = std_scl.transform(X_train)\n",
    "print(X_train[0:3,])\n",
    "X_valid = std_scl.transform(X_valid)\n",
    "X_test = std_scl.transform(X_test)"
   ]
  },
  {
   "cell_type": "code",
   "execution_count": null,
   "metadata": {
    "colab": {
     "base_uri": "https://localhost:8080/"
    },
    "executionInfo": {
     "elapsed": 199,
     "status": "ok",
     "timestamp": 1721336655086,
     "user": {
      "displayName": "Juan F Pérez",
      "userId": "13439628769322192552"
     },
     "user_tz": 300
    },
    "id": "iFwv28Mvn7ZH",
    "outputId": "5dddfaee-4cc0-4ee3-bec0-a3eb1aaf707b"
   },
   "outputs": [],
   "source": [
    "X_train.dtype"
   ]
  },
  {
   "cell_type": "markdown",
   "metadata": {
    "id": "FbdU7p9yqQXF"
   },
   "source": [
    "Construyamos el modelo con una capa de entrada, una capa densa con 5 neuronas y una capa de salida con 3 neuronas (1 por cada categoría de la variable de respuesta)"
   ]
  },
  {
   "cell_type": "code",
   "execution_count": null,
   "metadata": {
    "executionInfo": {
     "elapsed": 495,
     "status": "ok",
     "timestamp": 1721340161240,
     "user": {
      "displayName": "Juan F Pérez",
      "userId": "13439628769322192552"
     },
     "user_tz": 300
    },
    "id": "Zzp1me1cn7ZH"
   },
   "outputs": [],
   "source": [
    "tf.random.set_seed(42)\n",
    "tf.keras.backend.clear_session()\n",
    "\n",
    "model = tf.keras.Sequential()\n",
    "model.add(tf.keras.layers.InputLayer(input_shape=(4,)))\n",
    "model.add(tf.keras.layers.Dense(5, activation=\"relu\"))\n",
    "model.add(tf.keras.layers.Dense(3, activation=\"softmax\"))"
   ]
  },
  {
   "cell_type": "code",
   "execution_count": null,
   "metadata": {
    "colab": {
     "base_uri": "https://localhost:8080/"
    },
    "executionInfo": {
     "elapsed": 203,
     "status": "ok",
     "timestamp": 1721340163086,
     "user": {
      "displayName": "Juan F Pérez",
      "userId": "13439628769322192552"
     },
     "user_tz": 300
    },
    "id": "QiTIgPK1n7ZH",
    "outputId": "c7c27280-dcb8-4460-dcf2-406440f78890"
   },
   "outputs": [],
   "source": [
    "model.summary()"
   ]
  },
  {
   "cell_type": "markdown",
   "metadata": {
    "id": "iamnlHcL3r6W"
   },
   "source": [
    "Exploremos las capas del modelo, sus pesos y sesgos"
   ]
  },
  {
   "cell_type": "code",
   "execution_count": null,
   "metadata": {
    "colab": {
     "base_uri": "https://localhost:8080/"
    },
    "executionInfo": {
     "elapsed": 174,
     "status": "ok",
     "timestamp": 1721340166827,
     "user": {
      "displayName": "Juan F Pérez",
      "userId": "13439628769322192552"
     },
     "user_tz": 300
    },
    "id": "0dALPMqqn7ZH",
    "outputId": "59ae66c1-65e3-41fc-9250-144906ba916b"
   },
   "outputs": [],
   "source": [
    "model.layers"
   ]
  },
  {
   "cell_type": "code",
   "execution_count": null,
   "metadata": {
    "colab": {
     "base_uri": "https://localhost:8080/",
     "height": 35
    },
    "executionInfo": {
     "elapsed": 227,
     "status": "ok",
     "timestamp": 1721340208247,
     "user": {
      "displayName": "Juan F Pérez",
      "userId": "13439628769322192552"
     },
     "user_tz": 300
    },
    "id": "rb6-52o9n7ZI",
    "outputId": "4ad8a7f0-6e45-45ec-a2c5-c84d16e4f220"
   },
   "outputs": [],
   "source": [
    "hidden1 = model.layers[1]\n",
    "hidden1.name"
   ]
  },
  {
   "cell_type": "code",
   "execution_count": null,
   "metadata": {
    "colab": {
     "base_uri": "https://localhost:8080/"
    },
    "executionInfo": {
     "elapsed": 3,
     "status": "ok",
     "timestamp": 1721340209232,
     "user": {
      "displayName": "Juan F Pérez",
      "userId": "13439628769322192552"
     },
     "user_tz": 300
    },
    "id": "_jgqRHEan7ZI",
    "outputId": "dd5585e1-c98c-42e7-f90f-c0f3319bf0e1"
   },
   "outputs": [],
   "source": [
    "weights, biases = hidden1.get_weights()\n",
    "weights"
   ]
  },
  {
   "cell_type": "code",
   "execution_count": null,
   "metadata": {
    "colab": {
     "base_uri": "https://localhost:8080/"
    },
    "executionInfo": {
     "elapsed": 2,
     "status": "ok",
     "timestamp": 1721340211104,
     "user": {
      "displayName": "Juan F Pérez",
      "userId": "13439628769322192552"
     },
     "user_tz": 300
    },
    "id": "X3BhtC4sn7ZI",
    "outputId": "d3f2aa51-79d7-4d9a-e04c-6c3726a55543"
   },
   "outputs": [],
   "source": [
    "weights.shape"
   ]
  },
  {
   "cell_type": "code",
   "execution_count": null,
   "metadata": {
    "colab": {
     "base_uri": "https://localhost:8080/",
     "height": 206
    },
    "executionInfo": {
     "elapsed": 7,
     "status": "ok",
     "timestamp": 1721340212374,
     "user": {
      "displayName": "Juan F Pérez",
      "userId": "13439628769322192552"
     },
     "user_tz": 300
    },
    "id": "Fux4aMiwn7ZI",
    "outputId": "32f39d31-9655-46e3-f032-bc6dfabb1a73"
   },
   "outputs": [],
   "source": [
    "import pandas as pd\n",
    "pd.DataFrame(weights)"
   ]
  },
  {
   "cell_type": "code",
   "execution_count": null,
   "metadata": {
    "colab": {
     "base_uri": "https://localhost:8080/"
    },
    "executionInfo": {
     "elapsed": 4,
     "status": "ok",
     "timestamp": 1721340213316,
     "user": {
      "displayName": "Juan F Pérez",
      "userId": "13439628769322192552"
     },
     "user_tz": 300
    },
    "id": "r-2wtCC4n7ZJ",
    "outputId": "3837ea13-f979-4dba-c6fd-fc958a8ea62c"
   },
   "outputs": [],
   "source": [
    "biases"
   ]
  },
  {
   "cell_type": "code",
   "execution_count": null,
   "metadata": {
    "colab": {
     "base_uri": "https://localhost:8080/"
    },
    "executionInfo": {
     "elapsed": 3,
     "status": "ok",
     "timestamp": 1721340215001,
     "user": {
      "displayName": "Juan F Pérez",
      "userId": "13439628769322192552"
     },
     "user_tz": 300
    },
    "id": "PvaS05Xxn7ZJ",
    "outputId": "94655ab1-80cd-4461-f267-dd8d38eec06b"
   },
   "outputs": [],
   "source": [
    "biases.shape"
   ]
  },
  {
   "cell_type": "code",
   "execution_count": null,
   "metadata": {
    "colab": {
     "base_uri": "https://localhost:8080/",
     "height": 143
    },
    "executionInfo": {
     "elapsed": 193,
     "status": "ok",
     "timestamp": 1721340216029,
     "user": {
      "displayName": "Juan F Pérez",
      "userId": "13439628769322192552"
     },
     "user_tz": 300
    },
    "id": "ltacfYA3n7ZJ",
    "outputId": "0fcdfe96-77e6-4c8a-f951-edf097dd5b0f"
   },
   "outputs": [],
   "source": [
    "pd.DataFrame(biases)"
   ]
  },
  {
   "cell_type": "markdown",
   "metadata": {
    "id": "fkyov3hX31XA"
   },
   "source": [
    "Compilemos el modelo usando entropía categórica cruzada como función de pérdida"
   ]
  },
  {
   "cell_type": "code",
   "execution_count": null,
   "metadata": {
    "executionInfo": {
     "elapsed": 205,
     "status": "ok",
     "timestamp": 1721340248949,
     "user": {
      "displayName": "Juan F Pérez",
      "userId": "13439628769322192552"
     },
     "user_tz": 300
    },
    "id": "jDB9d2vWn7ZJ"
   },
   "outputs": [],
   "source": [
    "model.compile(loss=\"categorical_crossentropy\",\n",
    "              optimizer=\"sgd\",\n",
    "              metrics=[\"accuracy\"])"
   ]
  },
  {
   "cell_type": "code",
   "execution_count": null,
   "metadata": {
    "colab": {
     "base_uri": "https://localhost:8080/",
     "height": 312
    },
    "executionInfo": {
     "elapsed": 473,
     "status": "ok",
     "timestamp": 1721340251633,
     "user": {
      "displayName": "Juan F Pérez",
      "userId": "13439628769322192552"
     },
     "user_tz": 300
    },
    "id": "hAS-8B2kn7ZJ",
    "outputId": "6a0599c1-4b5e-4ca4-c904-9550c85d6c8f"
   },
   "outputs": [],
   "source": [
    "tf.keras.utils.plot_model(model, show_shapes=True)"
   ]
  },
  {
   "cell_type": "markdown",
   "metadata": {
    "id": "XjpLe3T-3_Fo"
   },
   "source": [
    "Entrenemos el modelo"
   ]
  },
  {
   "cell_type": "code",
   "execution_count": null,
   "metadata": {
    "colab": {
     "base_uri": "https://localhost:8080/"
    },
    "executionInfo": {
     "elapsed": 142824,
     "status": "ok",
     "timestamp": 1721340400628,
     "user": {
      "displayName": "Juan F Pérez",
      "userId": "13439628769322192552"
     },
     "user_tz": 300
    },
    "id": "LrB9SnKfn7ZK",
    "outputId": "85fae493-9bed-49f0-f380-a238cdd19906"
   },
   "outputs": [],
   "source": [
    "history = model.fit(X_train, y_train, epochs=100,\n",
    "                    validation_data=(X_valid, y_valid))"
   ]
  },
  {
   "cell_type": "markdown",
   "metadata": {
    "id": "yzL-XoqAn7ZK"
   },
   "source": [
    "## Datos MNIST fashion\n",
    "Ahora entrenemos otro modelo de clasificación, esta vez para datos MNIST fashion"
   ]
  },
  {
   "cell_type": "code",
   "execution_count": null,
   "metadata": {
    "colab": {
     "base_uri": "https://localhost:8080/"
    },
    "executionInfo": {
     "elapsed": 1099,
     "status": "ok",
     "timestamp": 1721340401721,
     "user": {
      "displayName": "Juan F Pérez",
      "userId": "13439628769322192552"
     },
     "user_tz": 300
    },
    "id": "ZmsOG-_Hn7ZK",
    "outputId": "3f98d7b4-9d40-48bf-c793-ae1c7b2778ea"
   },
   "outputs": [],
   "source": [
    "import tensorflow as tf\n",
    "\n",
    "fashion_mnist = tf.keras.datasets.fashion_mnist.load_data()"
   ]
  },
  {
   "cell_type": "code",
   "execution_count": null,
   "metadata": {
    "executionInfo": {
     "elapsed": 11,
     "status": "ok",
     "timestamp": 1721340401722,
     "user": {
      "displayName": "Juan F Pérez",
      "userId": "13439628769322192552"
     },
     "user_tz": 300
    },
    "id": "JlvmDqhO4C0L"
   },
   "outputs": [],
   "source": [
    "(X_train_full, y_train_full), (X_test, y_test) = fashion_mnist\n",
    "X_train, y_train = X_train_full[:-5000], y_train_full[:-5000]\n",
    "X_valid, y_valid = X_train_full[-5000:], y_train_full[-5000:]"
   ]
  },
  {
   "cell_type": "code",
   "execution_count": null,
   "metadata": {
    "colab": {
     "base_uri": "https://localhost:8080/"
    },
    "executionInfo": {
     "elapsed": 11,
     "status": "ok",
     "timestamp": 1721340401724,
     "user": {
      "displayName": "Juan F Pérez",
      "userId": "13439628769322192552"
     },
     "user_tz": 300
    },
    "id": "AC_V6Tk3n7ZL",
    "outputId": "94493ac9-94e5-449a-c8df-abe5f0a02997"
   },
   "outputs": [],
   "source": [
    "X_train.shape"
   ]
  },
  {
   "cell_type": "code",
   "execution_count": null,
   "metadata": {
    "colab": {
     "base_uri": "https://localhost:8080/",
     "height": 957
    },
    "executionInfo": {
     "elapsed": 10,
     "status": "ok",
     "timestamp": 1721340401724,
     "user": {
      "displayName": "Juan F Pérez",
      "userId": "13439628769322192552"
     },
     "user_tz": 300
    },
    "id": "ULkRiIAwn7ZL",
    "outputId": "3c336b9e-9544-4dd7-8b48-d7c4d154e672"
   },
   "outputs": [],
   "source": [
    "pd.DataFrame(X_train[0,:])"
   ]
  },
  {
   "cell_type": "markdown",
   "metadata": {
    "id": "pFqBsstcn7ZL"
   },
   "source": [
    "Reescalemos los datos para que cada pixel tenga un valor entre 0 y 1"
   ]
  },
  {
   "cell_type": "code",
   "execution_count": null,
   "metadata": {
    "executionInfo": {
     "elapsed": 276,
     "status": "ok",
     "timestamp": 1721340401992,
     "user": {
      "displayName": "Juan F Pérez",
      "userId": "13439628769322192552"
     },
     "user_tz": 300
    },
    "id": "-0-65R3-n7ZL"
   },
   "outputs": [],
   "source": [
    "X_train, X_valid, X_test = X_train / 255., X_valid / 255., X_test / 255."
   ]
  },
  {
   "cell_type": "code",
   "execution_count": null,
   "metadata": {
    "colab": {
     "base_uri": "https://localhost:8080/",
     "height": 977
    },
    "executionInfo": {
     "elapsed": 207,
     "status": "ok",
     "timestamp": 1721340402196,
     "user": {
      "displayName": "Juan F Pérez",
      "userId": "13439628769322192552"
     },
     "user_tz": 300
    },
    "id": "6zUu_rNtn7ZL",
    "outputId": "c8c6191e-ca58-43d8-fdd6-37f461724340"
   },
   "outputs": [],
   "source": [
    "pd.DataFrame(X_train[0,:])"
   ]
  },
  {
   "cell_type": "code",
   "execution_count": null,
   "metadata": {
    "colab": {
     "base_uri": "https://localhost:8080/",
     "height": 406
    },
    "executionInfo": {
     "elapsed": 505,
     "status": "ok",
     "timestamp": 1721340407745,
     "user": {
      "displayName": "Juan F Pérez",
      "userId": "13439628769322192552"
     },
     "user_tz": 300
    },
    "id": "0__XIWZwn7ZL",
    "outputId": "ff4aa31a-4b50-47a2-af4b-dffdf0c9b793"
   },
   "outputs": [],
   "source": [
    "import matplotlib.pyplot as plt\n",
    "plt.imshow(X_train[0], cmap=\"binary\")\n",
    "plt.axis('off')\n",
    "plt.show()"
   ]
  },
  {
   "cell_type": "code",
   "execution_count": null,
   "metadata": {
    "colab": {
     "base_uri": "https://localhost:8080/"
    },
    "executionInfo": {
     "elapsed": 207,
     "status": "ok",
     "timestamp": 1721340410137,
     "user": {
      "displayName": "Juan F Pérez",
      "userId": "13439628769322192552"
     },
     "user_tz": 300
    },
    "id": "jR582ViJn7ZM",
    "outputId": "249a8301-c77c-4cbe-b90f-a76ce6757577"
   },
   "outputs": [],
   "source": [
    "y_train[0]"
   ]
  },
  {
   "cell_type": "markdown",
   "metadata": {
    "id": "7fxVvFYL4OFw"
   },
   "source": [
    "Definamos los nombres de las 10 categorías"
   ]
  },
  {
   "cell_type": "code",
   "execution_count": null,
   "metadata": {
    "colab": {
     "base_uri": "https://localhost:8080/",
     "height": 35
    },
    "executionInfo": {
     "elapsed": 7,
     "status": "ok",
     "timestamp": 1721340411712,
     "user": {
      "displayName": "Juan F Pérez",
      "userId": "13439628769322192552"
     },
     "user_tz": 300
    },
    "id": "PIerYJTYn7ZM",
    "outputId": "d2e1b6df-ecac-4375-e437-00fd05090a08"
   },
   "outputs": [],
   "source": [
    "class_names = [\"T-shirt/top\", \"Trouser\", \"Pullover\", \"Dress\", \"Coat\",\n",
    "               \"Sandal\", \"Shirt\", \"Sneaker\", \"Bag\", \"Ankle boot\"]\n",
    "\n",
    "class_names[y_train[0]]"
   ]
  },
  {
   "cell_type": "markdown",
   "metadata": {
    "id": "2gKWUsQL4ahm"
   },
   "source": [
    "Grafiquemos algunos ejemplos de las imágenes en el dataset"
   ]
  },
  {
   "cell_type": "code",
   "execution_count": null,
   "metadata": {
    "colab": {
     "base_uri": "https://localhost:8080/",
     "height": 428
    },
    "executionInfo": {
     "elapsed": 2828,
     "status": "ok",
     "timestamp": 1721340416408,
     "user": {
      "displayName": "Juan F Pérez",
      "userId": "13439628769322192552"
     },
     "user_tz": 300
    },
    "id": "8tBVSyQIn7ZM",
    "outputId": "14237c0a-ce66-4b01-c2f9-1dd3d89c156f"
   },
   "outputs": [],
   "source": [
    "n_rows = 4\n",
    "n_cols = 10\n",
    "plt.figure(figsize=(n_cols * 1.2, n_rows * 1.2))\n",
    "for row in range(n_rows):\n",
    "    for col in range(n_cols):\n",
    "        index = n_cols * row + col\n",
    "        plt.subplot(n_rows, n_cols, index + 1)\n",
    "        plt.imshow(X_train[index], cmap=\"binary\", interpolation=\"nearest\")\n",
    "        plt.axis('off')\n",
    "        plt.title(class_names[y_train[index]])\n",
    "plt.subplots_adjust(wspace=0.2, hspace=0.5)\n",
    "plt.show()"
   ]
  },
  {
   "cell_type": "markdown",
   "metadata": {
    "id": "RDCiqyRsn7ZM"
   },
   "source": [
    "Definimos el modelo con\n",
    "- 1 capa de entrada\n",
    "- 1 operación de adelgazamiento (flatten)\n",
    "- 2 capas densas con función de activación ReLU\n",
    "- 1 capa de salida con función de activación softmax (clasificación) con tantas neuronas como categorías tenemos etiquetadas (10)"
   ]
  },
  {
   "cell_type": "code",
   "execution_count": null,
   "metadata": {
    "executionInfo": {
     "elapsed": 180,
     "status": "ok",
     "timestamp": 1721340419312,
     "user": {
      "displayName": "Juan F Pérez",
      "userId": "13439628769322192552"
     },
     "user_tz": 300
    },
    "id": "RY5wcR_An7ZM"
   },
   "outputs": [],
   "source": [
    "tf.keras.backend.clear_session()\n",
    "tf.random.set_seed(42)\n",
    "model = tf.keras.Sequential()\n",
    "model.add(tf.keras.layers.InputLayer(shape=[28, 28]))\n",
    "model.add(tf.keras.layers.Flatten())\n",
    "model.add(tf.keras.layers.Dense(300, activation=\"relu\"))\n",
    "model.add(tf.keras.layers.Dense(100, activation=\"relu\"))\n",
    "model.add(tf.keras.layers.Dense(10, activation=\"softmax\"))"
   ]
  },
  {
   "cell_type": "code",
   "execution_count": null,
   "metadata": {
    "colab": {
     "base_uri": "https://localhost:8080/"
    },
    "executionInfo": {
     "elapsed": 191,
     "status": "ok",
     "timestamp": 1721340420946,
     "user": {
      "displayName": "Juan F Pérez",
      "userId": "13439628769322192552"
     },
     "user_tz": 300
    },
    "id": "85FbLHsgn7ZN",
    "outputId": "debb3e5c-4858-4132-f53f-5c7771d85ab2"
   },
   "outputs": [],
   "source": [
    "model.summary()"
   ]
  },
  {
   "cell_type": "code",
   "execution_count": null,
   "metadata": {
    "colab": {
     "base_uri": "https://localhost:8080/",
     "height": 533
    },
    "executionInfo": {
     "elapsed": 417,
     "status": "ok",
     "timestamp": 1721340423748,
     "user": {
      "displayName": "Juan F Pérez",
      "userId": "13439628769322192552"
     },
     "user_tz": 300
    },
    "id": "XoboNtVnn7ZN",
    "outputId": "c5118612-f2e0-4420-cd0b-acc772e773eb"
   },
   "outputs": [],
   "source": [
    "tf.keras.utils.plot_model(model, show_shapes=True)"
   ]
  },
  {
   "cell_type": "code",
   "execution_count": null,
   "metadata": {
    "colab": {
     "base_uri": "https://localhost:8080/"
    },
    "executionInfo": {
     "elapsed": 198,
     "status": "ok",
     "timestamp": 1721340426508,
     "user": {
      "displayName": "Juan F Pérez",
      "userId": "13439628769322192552"
     },
     "user_tz": 300
    },
    "id": "8B-3NtY2n7ZN",
    "outputId": "626c5c4b-98a9-4d48-b052-a392cea8e020"
   },
   "outputs": [],
   "source": [
    "model.layers"
   ]
  },
  {
   "cell_type": "code",
   "execution_count": null,
   "metadata": {
    "colab": {
     "base_uri": "https://localhost:8080/",
     "height": 35
    },
    "executionInfo": {
     "elapsed": 7,
     "status": "ok",
     "timestamp": 1721340428850,
     "user": {
      "displayName": "Juan F Pérez",
      "userId": "13439628769322192552"
     },
     "user_tz": 300
    },
    "id": "cFXQKLTdn7ZN",
    "outputId": "c986c1ff-1669-4dae-b795-5faab9ee1025"
   },
   "outputs": [],
   "source": [
    "hidden1 = model.layers[1]\n",
    "hidden1.name"
   ]
  },
  {
   "cell_type": "code",
   "execution_count": null,
   "metadata": {
    "colab": {
     "base_uri": "https://localhost:8080/"
    },
    "executionInfo": {
     "elapsed": 259,
     "status": "ok",
     "timestamp": 1721340430499,
     "user": {
      "displayName": "Juan F Pérez",
      "userId": "13439628769322192552"
     },
     "user_tz": 300
    },
    "id": "Hrx38CAQn7ZO",
    "outputId": "11ab75b9-1797-4498-932c-18e7e780fde8"
   },
   "outputs": [],
   "source": [
    "weights, biases = hidden1.get_weights()\n",
    "weights.shape"
   ]
  },
  {
   "cell_type": "code",
   "execution_count": null,
   "metadata": {
    "colab": {
     "base_uri": "https://localhost:8080/"
    },
    "executionInfo": {
     "elapsed": 186,
     "status": "ok",
     "timestamp": 1721340432222,
     "user": {
      "displayName": "Juan F Pérez",
      "userId": "13439628769322192552"
     },
     "user_tz": 300
    },
    "id": "gZdaChzwn7ZO",
    "outputId": "84c5c206-7648-484a-e59d-4ac7795ed3b3"
   },
   "outputs": [],
   "source": [
    "biases.shape"
   ]
  },
  {
   "cell_type": "markdown",
   "metadata": {
    "id": "VzoK4gKB4p-S"
   },
   "source": [
    "Compilamos el modelo"
   ]
  },
  {
   "cell_type": "code",
   "execution_count": null,
   "metadata": {
    "executionInfo": {
     "elapsed": 196,
     "status": "ok",
     "timestamp": 1721340448508,
     "user": {
      "displayName": "Juan F Pérez",
      "userId": "13439628769322192552"
     },
     "user_tz": 300
    },
    "id": "DOSnInCDn7ZO"
   },
   "outputs": [],
   "source": [
    "model.compile(loss=\"sparse_categorical_crossentropy\",\n",
    "              optimizer=\"sgd\",\n",
    "              metrics=[\"accuracy\"])"
   ]
  },
  {
   "cell_type": "markdown",
   "metadata": {
    "id": "sXBlS7RE4rp-"
   },
   "source": [
    "Entrenamos el modelo"
   ]
  },
  {
   "cell_type": "code",
   "execution_count": null,
   "metadata": {
    "colab": {
     "base_uri": "https://localhost:8080/"
    },
    "executionInfo": {
     "elapsed": 98082,
     "status": "ok",
     "timestamp": 1721340548206,
     "user": {
      "displayName": "Juan F Pérez",
      "userId": "13439628769322192552"
     },
     "user_tz": 300
    },
    "id": "v4ASPyokn7ZO",
    "outputId": "e622266d-304f-48cd-8f04-3a0174ce1a1a"
   },
   "outputs": [],
   "source": [
    "history = model.fit(X_train, y_train, epochs=10,\n",
    "                    validation_data=(X_valid, y_valid))"
   ]
  },
  {
   "cell_type": "markdown",
   "metadata": {},
   "source": [
    "Probando el modelo"
   ]
  },
  {
   "cell_type": "code",
   "execution_count": null,
   "metadata": {},
   "outputs": [],
   "source": [
    "test_case = 20\n",
    "plt.imshow(X_test[test_case], cmap=\"binary\")\n",
    "plt.axis('off')\n",
    "plt.show()\n",
    "print(f'Actual label: {class_names[y_test[test_case]]}')\n",
    "dftest = pd.DataFrame(model.predict(X_test[[test_case]]), columns=class_names)\n",
    "dftest"
   ]
  }
 ],
 "metadata": {
  "colab": {
   "provenance": []
  },
  "kernelspec": {
   "display_name": "Python 3",
   "language": "python",
   "name": "python3"
  },
  "language_info": {
   "codemirror_mode": {
    "name": "ipython",
    "version": 3
   },
   "file_extension": ".py",
   "mimetype": "text/x-python",
   "name": "python",
   "nbconvert_exporter": "python",
   "pygments_lexer": "ipython3",
   "version": "3.12.1"
  },
  "orig_nbformat": 4
 },
 "nbformat": 4,
 "nbformat_minor": 0
}
